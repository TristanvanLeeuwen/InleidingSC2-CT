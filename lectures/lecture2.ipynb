{
 "cells": [
  {
   "cell_type": "markdown",
   "metadata": {
    "slideshow": {
     "slide_type": "slide"
    }
   },
   "source": [
    "# Lecture 2 - Fourier reconstruction"
   ]
  },
  {
   "cell_type": "markdown",
   "metadata": {
    "slideshow": {
     "slide_type": "slide"
    }
   },
   "source": [
    "# Contents\n",
    "\n",
    "* The Fourier transform\n",
    "* The Fourier-Slice Theorem\n",
    "* Fourier reconstruction\n",
    "* Assignments"
   ]
  },
  {
   "cell_type": "markdown",
   "metadata": {
    "slideshow": {
     "slide_type": "slide"
    }
   },
   "source": [
    "# The Fourier transform"
   ]
  },
  {
   "cell_type": "markdown",
   "metadata": {
    "slideshow": {
     "slide_type": "subslide"
    }
   },
   "source": [
    "The Fourier transform of a function $g : \\mathbb{R} \\rightarrow \\mathbb{R}$ is given by \n",
    "\n",
    "$$\\widehat{g}(\\xi) = \\int_{\\mathbb{R}} g(x) e^{-2\\pi\\imath x \\xi} \\mathrm{d}x.$$\n",
    "\n",
    "The inverse transform is given by \n",
    "\n",
    "$$g(x) = \\int_{\\mathbb{R}} \\widehat{g}(\\xi) e^{2\\pi\\imath x \\xi} \\mathrm{d}\\xi.$$\n"
   ]
  },
  {
   "cell_type": "markdown",
   "metadata": {
    "slideshow": {
     "slide_type": "subslide"
    }
   },
   "source": [
    "Similarly, for a function $g : \\mathbb{R}^n \\rightarrow \\mathbb{R}$\n",
    "\n",
    "$$\\widehat{g}(\\boldsymbol{\\xi}) = \\int_{\\mathbb{R}^n} g(\\mathbf{x}) e^{-2\\pi\\imath x \\cdot \\boldsymbol{\\xi}} \\mathrm{d}\\mathbf{x}.$$\n",
    "\n",
    "With inverse\n",
    "\n",
    "$$g(\\mathbf{x}) = \\int_{\\mathbb{R}^n} \\widehat{g}(\\boldsymbol{\\xi}) e^{2\\pi\\imath x \\cdot \\boldsymbol{\\xi}} \\mathrm{d}\\boldsymbol{\\xi}.$$"
   ]
  },
  {
   "cell_type": "markdown",
   "metadata": {
    "slideshow": {
     "slide_type": "slide"
    }
   },
   "source": [
    "# The Fourier-Slice Theorem"
   ]
  },
  {
   "cell_type": "markdown",
   "metadata": {
    "slideshow": {
     "slide_type": "subslide"
    }
   },
   "source": [
    "The Fourier-Slice Theorem relates the 2D-Fourier transform of $u$ to the 1D-Fourier transform of $f$:\n",
    "\n",
    "$$\\widehat{f}(\\theta, \\sigma) = \\widehat{u}(\\sigma \\mathbf{n}_\\theta),$$\n",
    "\n",
    "with\n",
    "\n",
    "$$\\widehat{f}(\\theta,\\sigma) = \\int_{\\mathbb{R}} f(\\theta,s) e^{-2\\pi\\imath \\sigma s}\\mathrm{d}s,$$\n",
    "\n",
    "$$\\widehat{u}(\\mathbf{k}) = \\int_{\\mathbb{R}^2} u(\\mathbf{x}) e^{-2\\pi\\imath \\mathbf{k}\\cdot \\mathbf{x}}\\mathrm{d}\\mathbf{x},$$\n",
    "\n",
    "$$\\mathbf{n}_\\theta = (\\cos\\theta,-\\sin\\theta).$$"
   ]
  },
  {
   "cell_type": "markdown",
   "metadata": {
    "slideshow": {
     "slide_type": "subslide"
    }
   },
   "source": [
    "We can visualise this as follows\n",
    "\n",
    "![](https://upload.wikimedia.org/wikipedia/commons/thumb/9/97/Radon_transform_via_Fourier_transform.png/2000px-Radon_transform_via_Fourier_transform.png)"
   ]
  },
  {
   "cell_type": "markdown",
   "metadata": {
    "slideshow": {
     "slide_type": "slide"
    }
   },
   "source": [
    "# Fourier reconstruction"
   ]
  },
  {
   "cell_type": "markdown",
   "metadata": {
    "slideshow": {
     "slide_type": "subslide"
    }
   },
   "source": [
    "* In principle, we can reconstruct the image by performing an inverse Fourier transform\n",
    "* Having collected *discrete* measurements $f_{ij} = f(\\theta_j,s_i)$, we only have partial information on the Fourier transform of $u$\n",
    "* Ultimately, we will represent $u$ on a grid of pixels with intenties $u_i = u(\\mathbf{x}_i)$"
   ]
  },
  {
   "cell_type": "markdown",
   "metadata": {
    "slideshow": {
     "slide_type": "subslide"
    }
   },
   "source": [
    "## The Discrete Fourier Transform\n",
    "\n",
    "The *discrete Fourier transform (DFT)* of a sequence $\\{g_i\\}_{i=0}^n$ is defined as\n",
    "\n",
    "$$\\widehat{g}_i = \\sum_{j=0}^{n-1} g_j \\exp\\left(-\\frac{2\\pi\\imath}{n} ij\\right), \\quad i = 0, \\ldots, n-1.$$\n",
    "\n",
    "When $g_i$ samples $g$ at a grid with spacing $\\Delta x$, its Fourier spectrum $\\widehat{g}$ is sampled with $\\Delta \\xi = (n\\Delta x)^{-1}$."
   ]
  },
  {
   "cell_type": "code",
   "execution_count": 74,
   "metadata": {
    "slideshow": {
     "slide_type": "skip"
    }
   },
   "outputs": [
    {
     "data": {
      "image/png": "[encoded data removed]",
      "text/plain": [
       "<Figure size 720x288 with 6 Axes>"
      ]
     },
     "metadata": {
      "needs_background": "light"
     },
     "output_type": "display_data"
    }
   ],
   "source": [
    "import numpy as np\n",
    "import matplotlib.pyplot as plt\n",
    "from scipy.fft import fft, ifft, fftfreq, fftshift,ifftshift\n",
    "\n",
    "# Fourier transform pair, see https://en.wikipedia.org/wiki/Fourier_transform#Square-integrable_functions,_one-dimensional\n",
    "a = 10\n",
    "g = lambda x : np.exp(-a*x**2)\n",
    "gh = lambda xi : np.sqrt(np.pi/a)*np.exp(-((xi*np.pi)**2)/a)\n",
    "\n",
    "# sampling\n",
    "n = 100\n",
    "x = np.linspace(-1,1,n)\n",
    "xi = fftshift(fftfreq(n,x[1]-x[0]))\n",
    "\n",
    "ns = 101\n",
    "xs = ifftshift(np.linspace(-1,1,ns))\n",
    "xis = fftfreq(ns,xs[1]-xs[0])\n",
    "\n",
    "# plot\n",
    "fig,ax = plt.subplots(2,3)\n",
    "\n",
    "ax[0,0].plot(xs,g(xs),'o',alpha=.5)\n",
    "ax[0,0].plot(x,g(x))\n",
    "ax[0,0].set_xlabel(r'$x$')\n",
    "ax[0,0].set_ylabel(r'$g$')\n",
    "ax[0,0].set_ylim([-2,2])\n",
    "\n",
    "ax[0,1].plot(xis,2*np.real(fft(g(xs)))/ns,'o',alpha=.5)\n",
    "ax[0,1].plot(xi,np.real(gh(xi)))\n",
    "ax[0,1].set_xlabel(r'$\\xi$')\n",
    "ax[0,1].set_ylabel(r'$\\Re(\\widehat{g})$')\n",
    "ax[0,1].set_ylim([-2,2])\n",
    "\n",
    "ax[0,2].plot(xis,2*np.imag(fft(g(xs)))/ns,'o',alpha=.5)\n",
    "ax[0,2].plot(xi,np.imag(gh(xi)))\n",
    "ax[0,2].set_xlabel(r'$\\xi$')\n",
    "ax[0,2].set_ylabel(r'$\\Im(\\widehat{g})$')\n",
    "ax[0,2].set_ylim([-2,2])\n",
    "\n",
    "ax[1,0].plot(g(xs),'o',alpha=.5)\n",
    "ax[1,0].set_xlabel(r'$i$')\n",
    "ax[1,0].set_ylabel(r'$g$')\n",
    "ax[1,0].set_ylim([-2,2])\n",
    "\n",
    "ax[1,1].plot(2*np.real(fft(g(xs)))/ns,'o',alpha=.5)\n",
    "ax[1,1].set_xlabel(r'$i$')\n",
    "ax[1,1].set_ylabel(r'$\\Re(\\widehat{g})$')\n",
    "ax[1,1].set_ylim([-2,2])\n",
    "\n",
    "ax[1,2].plot(2*np.imag(fft(g(xs)))/ns,'o',alpha=.5)\n",
    "ax[1,2].set_xlabel(r'$i$')\n",
    "ax[1,2].set_ylabel(r'$\\Im(\\widehat{g})$')\n",
    "ax[1,2].set_ylim([-2,2])\n",
    "\n",
    "\n",
    "fig.tight_layout()\n",
    "fig.set_figwidth(10)\n",
    "\n",
    "plt.savefig('./figures/lecture2/fourier1.png',dpi=300)"
   ]
  },
  {
   "cell_type": "markdown",
   "metadata": {
    "slideshow": {
     "slide_type": "subslide"
    }
   },
   "source": [
    "We need to be carefull when trying to relate the samples $g_i, \\widehat{g}_i$ to the underlying functions $g, \\widehat{g}$. \n",
    "\n",
    "* DFT assumes grids to be order as $(0, h, 2h, \\ldots, L, L, L-h, \\ldots, -h)$.\n",
    "* Use `fftshift` and `ifftshift` to switch between *DFT* and *normal* ordering of the grid.\n",
    "\n",
    "![](./figures/lecture2/fourier1.png)"
   ]
  },
  {
   "cell_type": "code",
   "execution_count": 130,
   "metadata": {
    "slideshow": {
     "slide_type": "skip"
    }
   },
   "outputs": [
    {
     "data": {
      "image/png": "[encoded data removed]",
      "text/plain": [
       "<Figure size 432x288 with 1 Axes>"
      ]
     },
     "metadata": {
      "needs_background": "light"
     },
     "output_type": "display_data"
    }
   ],
   "source": [
    "import numpy as np\n",
    "import matplotlib.pyplot as plt\n",
    "from scipy.fft import fft, ifft, fftfreq, fftshift,ifftshift\n",
    "\n",
    "# Fourier transform pair, see https://en.wikipedia.org/wiki/Fourier_transform#Square-integrable_functions,_one-dimensional\n",
    "a = 19*np.pi\n",
    "g = lambda x : np.cos(a*x)\n",
    "\n",
    "# sampling\n",
    "n = 500\n",
    "x = np.linspace(-1,1,n)\n",
    "xi = fftshift(fftfreq(n,x[1]-x[0]))\n",
    "\n",
    "ns = 21\n",
    "xs = np.linspace(-1,1,ns)\n",
    "xis = fftfreq(ns,xs[1]-xs[0])\n",
    "\n",
    "# plot\n",
    "fig,ax = plt.subplots(1,1)\n",
    "\n",
    "ax.plot(xs,g(xs),'o',alpha=.5)\n",
    "ax.plot(x,g(x))\n",
    "ax.plot(xs,np.real(ifft(fft(g(xs)))))\n",
    "ax.set_xlabel(r'$x$')\n",
    "ax.set_ylabel(r'$g$')\n",
    "ax.set_ylim([-2,2])\n",
    "\n",
    "fig.tight_layout()\n",
    "\n",
    "plt.savefig('./figures/lecture2/fourier2.png',dpi=300)"
   ]
  },
  {
   "cell_type": "markdown",
   "metadata": {
    "slideshow": {
     "slide_type": "subslide"
    }
   },
   "source": [
    "Be aware that some interesting things may happen with the DFT, when subsampling or truncating the signals.\n",
    "\n",
    "![](./figures/lecture2/fourier2.png)"
   ]
  },
  {
   "cell_type": "markdown",
   "metadata": {
    "slideshow": {
     "slide_type": "subslide"
    }
   },
   "source": [
    "## The Fast Fourier Transform\n",
    "\n",
    "A naive implementation would require $\\mathcal{O}(n^2)$ operations to multiply by $F$. With some clever tricks, however, it can be done in $\\mathcal{O}(n\\log n)$."
   ]
  },
  {
   "cell_type": "markdown",
   "metadata": {
    "slideshow": {
     "slide_type": "subslide"
    }
   },
   "source": [
    "To illustrate the concept, consider $n = 2^p$ and express the DFT as\n",
    "\n",
    "$$\\sum_{j=0}^{n-1} g_j \\exp\\left(-\\frac{2\\pi\\imath}{n} ij\\right) = \\sum_{j=0}^{n/2-1} g_{2j} \\exp\\left(-\\frac{2\\pi\\imath}{n} i(2j)\\right) + \\sum_{j=0}^{n/2-1} g_{2j+1} \\exp\\left(-\\frac{2\\pi\\imath}{n} i(2j+1)\\right)$$\n",
    "\n",
    "$$ = \\underbrace{\\sum_{j=0}^{n/2-1} g_{2j} \\exp\\left(-\\frac{2\\pi\\imath}{n/2} ij\\right)}_{E_i} + \\exp\\left(-\\frac{2\\pi\\imath}{n} i\\right)\\underbrace{\\sum_{j=0}^{n/2-1} g_{2j+1} \\exp\\left(-\\frac{2\\pi\\imath}{n/2} ij\\right)}_{O_i}$$"
   ]
  },
  {
   "cell_type": "markdown",
   "metadata": {
    "slideshow": {
     "slide_type": "fragment"
    }
   },
   "source": [
    "We need only compute $E_i$ and $O_i$ for $i = 0, \\ldots, n/2-1$ since\n",
    "\n",
    "$$\\widehat{g}_i = E_i + e^{-\\frac{2\\pi\\imath}{n} i} O_i, \\quad \\widehat{g}_{i+n/2} = E_i - e^{-\\frac{2\\pi\\imath}{n} i} O_i$$"
   ]
  },
  {
   "cell_type": "markdown",
   "metadata": {
    "slideshow": {
     "slide_type": "fragment"
    }
   },
   "source": [
    "This *divide-and-conquer* technique leads to an overall complexity of $\\mathcal{O}(n\\log n)$."
   ]
  },
  {
   "cell_type": "markdown",
   "metadata": {
    "slideshow": {
     "slide_type": "subslide"
    }
   },
   "source": [
    "![](https://upload.wikimedia.org/wikipedia/commons/thumb/7/78/DIT-FFT-butterfly.svg/600px-DIT-FFT-butterfly.svg.png)"
   ]
  },
  {
   "cell_type": "markdown",
   "metadata": {
    "slideshow": {
     "slide_type": "subslide"
    }
   },
   "source": [
    "![](https://upload.wikimedia.org/wikipedia/commons/thumb/5/54/FFT_Butterfly_radix8.svg/520px-FFT_Butterfly_radix8.svg.png)"
   ]
  },
  {
   "cell_type": "markdown",
   "metadata": {
    "slideshow": {
     "slide_type": "subslide"
    }
   },
   "source": [
    "## Interpolation\n",
    "\n",
    "Applying the Fourier transform to $f_{ij}$ gives us samples of $\\widehat{u}$ at wavenumbers \n",
    "\n",
    "$$\\{(\\sigma_i \\mathbf{n}_{\\theta_j})\\},$$ \n",
    "\n",
    "with $\\sigma_i = i \\cdot (n h)^{-1}$ for $i = -(n-1)/2, \\ldots, 0, \\ldots, (n-1)/2$ (assuming again that $f_{ij} = f(i \\cdot h , \\theta_j)$ and $n$ odd)"
   ]
  },
  {
   "cell_type": "markdown",
   "metadata": {
    "slideshow": {
     "slide_type": "fragment"
    }
   },
   "source": [
    "To usefully apply the inverse DFT, we need $\\widehat{u}$ at wavenumbers \n",
    "\n",
    "$$\\{(i\\cdot (n h)^{-1}, j\\cdot (n h )^{-1})\\},$$\n",
    "\n",
    "for $i,j = -(n-1)/2, \\ldots, 0, \\ldots, (n-1)/2$."
   ]
  },
  {
   "cell_type": "code",
   "execution_count": 1,
   "metadata": {
    "slideshow": {
     "slide_type": "skip"
    }
   },
   "outputs": [
    {
     "data": {
      "image/png": "[encoded data removed]",
      "text/plain": [
       "<Figure size 432x288 with 2 Axes>"
      ]
     },
     "metadata": {
      "needs_background": "light"
     },
     "output_type": "display_data"
    }
   ],
   "source": [
    "import numpy as np\n",
    "import matplotlib.pyplot as plt\n",
    "from scipy.fft import fftfreq\n",
    "\n",
    "n = 11\n",
    "m = 11\n",
    "\n",
    "x = np.linspace(-1,1,n)\n",
    "h = 2/(n-1)\n",
    "\n",
    "kx = fftfreq(n, h)\n",
    "ky = fftfreq(n, h)\n",
    "kxx,kyy = np.meshgrid(kx,ky)\n",
    "\n",
    "kr = fftfreq(n, h)\n",
    "theta = np.linspace(-np.pi,np.pi,m)\n",
    "krr,tt = np.meshgrid(kr,theta)\n",
    "\n",
    "fig,ax = plt.subplots(1,2)\n",
    "\n",
    "ax[0].plot(kxx.ravel(),kyy.ravel(),'o')\n",
    "ax[0].plot((krr*np.cos(tt)).ravel(),(krr*np.sin(tt)).ravel(),'*')\n",
    "ax[0].set_xlabel(r'$k_x$')\n",
    "ax[0].set_ylabel(r'$k_y$')\n",
    "\n",
    "\n",
    "ax[1].plot(np.sqrt(kxx**2+kyy**2).ravel(),np.arctan2(kyy,kxx).ravel(),'o')\n",
    "ax[1].plot(krr.ravel(),tt.ravel(),'*')\n",
    "ax[1].set_xlabel(r'$k_s$')\n",
    "ax[1].set_ylabel(r'$k_\\theta$')\n",
    "ax[1].set_xlim([-.2,1.5*np.max(kx)])\n",
    "\n",
    "fig.tight_layout()\n",
    "\n",
    "plt.savefig('./figures/lecture2/grids.png',dpi=300)"
   ]
  },
  {
   "cell_type": "markdown",
   "metadata": {
    "slideshow": {
     "slide_type": "subslide"
    }
   },
   "source": [
    "![](./figures/lecture2/grids.png)"
   ]
  },
  {
   "cell_type": "markdown",
   "metadata": {
    "slideshow": {
     "slide_type": "subslide"
    }
   },
   "source": [
    "In interpolation we aim to approximate the value of a function $g$ at $(x,y)$ from its values at nearby points $g_i = g(x_i,y_i)$.\n",
    "\n",
    "* Linear interpolation uses 3 nearby points\n",
    "* Bi-linear interplation uses 4 nearby points"
   ]
  },
  {
   "cell_type": "markdown",
   "metadata": {
    "slideshow": {
     "slide_type": "subslide"
    }
   },
   "source": [
    "For linear interpolation, we use a first order polynomial of the form\n",
    "\n",
    "$$p(x,y) = a \\cdot x + b \\cdot y + c,$$\n",
    "\n",
    "and set up a system of equations for $(a,b,c)$ by demanding that $p(x_i,y_i) = g_i$."
   ]
  },
  {
   "cell_type": "markdown",
   "metadata": {
    "slideshow": {
     "slide_type": "subslide"
    }
   },
   "source": [
    "For bi-linear interpolation, we use a polynomial of the form\n",
    "\n",
    "$$p(x,y) = a \\cdot x \\cdot y + b \\cdot x + c \\cdot y + d,$$\n",
    "\n",
    "and set up a system of equations for $(a,b,c,d)$ by demanding that $p(x_i,y_i) = g_i$."
   ]
  },
  {
   "cell_type": "markdown",
   "metadata": {
    "slideshow": {
     "slide_type": "subslide"
    }
   },
   "source": [
    "![](https://upload.wikimedia.org/wikipedia/commons/thumb/9/91/Bilinear_interpolation_visualisation.svg/340px-Bilinear_interpolation_visualisation.svg.png)"
   ]
  },
  {
   "cell_type": "markdown",
   "metadata": {
    "slideshow": {
     "slide_type": "subslide"
    }
   },
   "source": [
    "## 1D example\n",
    "\n",
    "```python\n",
    "\n",
    "def lininterp1d(x,g,xs):\n",
    "    \"\"\"\n",
    "    Linear interpolation from regular grid.\n",
    "    \n",
    "    x  - input grid (regularly spaced), 1d array of length n\n",
    "    g  - function values, 1d array of length n\n",
    "    xs - values at which to evaluate, 1d array of length ns\n",
    "    \"\"\"\n",
    "\n",
    "    n = len(x)\n",
    "    ns = len(xs)\n",
    "    gs = np.zeros(ns)\n",
    "    \n",
    "    h = x[1] - x[0]\n",
    "    \n",
    "    for i in range(ns):\n",
    "        j = int((xs[i] - x[0]) // h) # find j such that x[j] <= xs[i] < x[j+1]\n",
    "        if 0 <= j < n-1:\n",
    "            gs[i] = ((x[j+1] - xs[i])/h)*g[j] + ((xs[i] - x[j])/h)*g[j+1]\n",
    "        else:\n",
    "            gs[i] = 0\n",
    "        \n",
    "    return gs\n",
    "```"
   ]
  },
  {
   "cell_type": "code",
   "execution_count": 2,
   "metadata": {
    "slideshow": {
     "slide_type": "skip"
    }
   },
   "outputs": [
    {
     "data": {
      "image/png": "[encoded data removed]",
      "text/plain": [
       "<Figure size 432x288 with 1 Axes>"
      ]
     },
     "metadata": {
      "needs_background": "light"
     },
     "output_type": "display_data"
    }
   ],
   "source": [
    "import numpy as np\n",
    "import matplotlib.pyplot as plt\n",
    "\n",
    "def lininterp1d(x,g,xs):\n",
    "    \"\"\"\n",
    "    Linear interpolation from regular grid.\n",
    "    \n",
    "    x  - input grid (regularly spaced), 1d array of length n\n",
    "    g  - function values, 1d array of length n\n",
    "    xs - values at which to evaluate, 1d array of length ns\n",
    "    \"\"\"\n",
    "\n",
    "    n = len(x)\n",
    "    ns = len(xs)\n",
    "    gs = np.zeros(ns)\n",
    "    \n",
    "    h = x[1] - x[0]\n",
    "    \n",
    "    for i in range(ns):\n",
    "        j = int((xs[i] - x[0]) // h) # find j such that x[j] <= xs[i] < x[j+1]\n",
    "        if 0 <= j < n-1:\n",
    "            gs[i] = ((x[j+1] - xs[i])/h)*g[j] + ((xs[i] - x[j])/h)*g[j+1]\n",
    "        else:\n",
    "            gs[i] = 0\n",
    "        \n",
    "    return gs\n",
    "\n",
    "x = np.linspace(-1,1,11)\n",
    "g = (x-.1)**2\n",
    "xs = np.linspace(-1.5,1.5,21)\n",
    "gs = lininterp1d(x,g,xs)\n",
    "\n",
    "plt.plot(x,g,'o',label=r'$g$')\n",
    "plt.plot(xs,gs,'*',label=r'$p$')\n",
    "plt.xlabel(r'$x$')\n",
    "plt.legend()\n",
    "\n",
    "plt.savefig('./figures/lecture2/interpolation.png',dpi=300)"
   ]
  },
  {
   "cell_type": "markdown",
   "metadata": {
    "slideshow": {
     "slide_type": "subslide"
    }
   },
   "source": [
    "![](./figures/lecture2/interpolation.png)"
   ]
  },
  {
   "cell_type": "markdown",
   "metadata": {
    "slideshow": {
     "slide_type": "slide"
    }
   },
   "source": [
    "# Assignments"
   ]
  },
  {
   "cell_type": "markdown",
   "metadata": {
    "slideshow": {
     "slide_type": "subslide"
    }
   },
   "source": [
    "## Assignment 1\n",
    "\n",
    "Implement a function to bi-linearly interpolate data from a polar grid `r,theta` to a cartesian grid `x,y`. Use the following template \n",
    "\n",
    "```python\n",
    "def interpolate(f_hat, theta, ks, kx, ky):\n",
    "    \"\"\"\n",
    "    Bi-linear interpolation from radial grid (ks,theta) to cartesian grid (kx,ky), \n",
    "    related via kx = ks*cos(theta), ky = -ks*sin(theta).\n",
    "    \n",
    "    The radial coordinates are assumed to include negative radii and theta \\in [0,pi).\n",
    "    \n",
    "    Input: \n",
    "        f_hat     - 2d array of size (ns,ntheta) containing values on the radial grid\n",
    "        theta, ks - 1d arrays of size ns and nt containing the polar gridpoints\n",
    "        kx, ky    - 1d arrays of size nx and ny containing the cartesian gridpoints\n",
    "        \n",
    "    Output:\n",
    "        u_hat     - 2d array of size (nx,nt) containing the interpolated values\n",
    "    \"\"\"\n",
    "```"
   ]
  },
  {
   "cell_type": "markdown",
   "metadata": {
    "slideshow": {
     "slide_type": "subslide"
    }
   },
   "source": [
    "## Assignment 2\n",
    "\n",
    "Use your interpolation method to reconstruct the following data\n",
    "\n",
    "```python\n",
    "# settings\n",
    "nx = 400\n",
    "na = 400\n",
    "theta = np.linspace(0., 180., na)\n",
    "sigma = 1\n",
    "\n",
    "# phantom\n",
    "u = shepp_logan_phantom()\n",
    "\n",
    "# sinogram\n",
    "f = radon(u, theta=theta)\n",
    "f_noisy = f + sigma * np.random.randn(nx,na)\n",
    "```\n",
    "\n",
    "* perform a one-dimensional fft of the sinogram; you can use `fftshift` and `ifftshift` to switch between the regular and DFT ordering of grid.\n",
    "* define the corresponding polar Fourier grid (according to the Fourier Slice Theorem)\n",
    "* interpolate the data on a euclidian grid\n",
    "* Vary the noise level `sigma` and angular sampling `na`; is Fourier reconstruction more or less sensitive to noise and subsampling than `iradon`?"
   ]
  }
 ],
 "metadata": {
  "celltoolbar": "Slideshow",
  "kernelspec": {
   "display_name": "Python 3",
   "language": "python",
   "name": "python3"
  },
  "language_info": {
   "codemirror_mode": {
    "name": "ipython",
    "version": 3
   },
   "file_extension": ".py",
   "mimetype": "text/x-python",
   "name": "python",
   "nbconvert_exporter": "python",
   "pygments_lexer": "ipython3",
   "version": "3.8.5"
  }
 },
 "nbformat": 4,
 "nbformat_minor": 4
}
