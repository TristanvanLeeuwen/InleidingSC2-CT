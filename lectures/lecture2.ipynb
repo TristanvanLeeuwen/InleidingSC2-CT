{
 "cells": [
  {
   "cell_type": "markdown",
   "metadata": {
    "slideshow": {
     "slide_type": "slide"
    }
   },
   "source": [
    "# Lecture 2 - Fourier reconstruction"
   ]
  },
  {
   "cell_type": "markdown",
   "metadata": {
    "slideshow": {
     "slide_type": "slide"
    }
   },
   "source": [
    "# Contents\n",
    "\n",
    "* The Fourier-Slice Theorem\n",
    "* Fourier reconstruction"
   ]
  },
  {
   "cell_type": "markdown",
   "metadata": {
    "slideshow": {
     "slide_type": "slide"
    }
   },
   "source": [
    "# The Fourier-Slice Theorem"
   ]
  },
  {
   "cell_type": "markdown",
   "metadata": {
    "slideshow": {
     "slide_type": "subslide"
    }
   },
   "source": [
    "The Fourier-Slice Theorem relates the 2D-Fourier transform of $u$ to the 1D-Fourier transform of $f$:\n",
    "\n",
    "$$\\widehat{f}(\\sigma,\\theta) = \\widehat{u}(|\\sigma| \\mathbf{n}_\\theta),$$\n",
    "\n",
    "with\n",
    "\n",
    "$$\\widehat{f}(\\sigma,\\theta) = \\int_{\\mathbb{R}} f(s,\\theta) e^{-2\\pi\\imath \\sigma s}\\mathrm{d}s,$$\n",
    "\n",
    "$$\\widehat{u}(\\mathbf{k}) = \\int_{\\mathbb{R}^2} u(\\mathbf{x}) e^{-2\\pi\\imath \\mathbf{k}\\cdot \\mathbf{x}}\\mathrm{d}\\mathbf{x},$$\n",
    "\n",
    "$$\\mathbf{n}_\\theta = (\\cos\\theta,\\sin\\theta).$$"
   ]
  },
  {
   "cell_type": "markdown",
   "metadata": {
    "slideshow": {
     "slide_type": "subslide"
    }
   },
   "source": [
    "We can visualise this as follows\n",
    "\n",
    "![](https://upload.wikimedia.org/wikipedia/commons/thumb/9/97/Radon_transform_via_Fourier_transform.png/2000px-Radon_transform_via_Fourier_transform.png)"
   ]
  },
  {
   "cell_type": "markdown",
   "metadata": {
    "slideshow": {
     "slide_type": "slide"
    }
   },
   "source": [
    "# Fourier reconstruction"
   ]
  },
  {
   "cell_type": "markdown",
   "metadata": {
    "slideshow": {
     "slide_type": "subslide"
    }
   },
   "source": [
    "* In principle, we can reconstruct the image by performing an inverse Fourier transform\n",
    "* Having collected *discrete* measurements $f_{ij} = f(s_i,\\theta_j)$, we only have partial information on the Fourier transform of $u$"
   ]
  },
  {
   "cell_type": "markdown",
   "metadata": {
    "slideshow": {
     "slide_type": "subslide"
    }
   },
   "source": [
    "## The Discrete Fourier Transform\n",
    "\n",
    "The *discrete Fourier transform (DFT)* of a sequence $\\{g_i\\}_{i=0}^n$ is defined as\n",
    "\n",
    "$$\\widehat{g}_i = \\sum_{j=0}^{n-1} g_j \\exp\\left(-\\frac{2\\pi\\imath}{n} ij\\right), \\quad i = 0, \\ldots, n-1.$$\n",
    "\n",
    "If $g_i = g(i\\cdot\\Delta x)$, then $\\widehat{g}_i = \\widehat{g}( \\ldots )$."
   ]
  },
  {
   "cell_type": "markdown",
   "metadata": {
    "slideshow": {
     "slide_type": "fragment"
    }
   },
   "source": [
    "In matrix-vector notation, we express this as\n",
    "\n",
    "$$\\widehat{\\mathbf{g}} = F\\mathbf{g},$$\n",
    "\n",
    "with $F_{ij} = \\exp\\left(-\\frac{2\\pi\\imath}{n} ij\\right)$."
   ]
  },
  {
   "cell_type": "markdown",
   "metadata": {
    "slideshow": {
     "slide_type": "fragment"
    }
   },
   "source": [
    "The inverse is given by\n",
    "\n",
    "$$F^{-1} = n^{-1} F^*.$$"
   ]
  },
  {
   "cell_type": "markdown",
   "metadata": {
    "slideshow": {
     "slide_type": "subslide"
    }
   },
   "source": [
    "## The Fast Fourier Transform\n",
    "\n",
    "A naive implementation would require $\\mathcal{O}(n^2)$ operations to multiply by $F$. With some clever tricks, however, it can be done in $\\mathcal{O}(n\\log n)$."
   ]
  },
  {
   "cell_type": "markdown",
   "metadata": {
    "slideshow": {
     "slide_type": "subslide"
    }
   },
   "source": [
    "## Interpolation\n",
    "\n",
    "* Applying the Fourier transform to $f_{ij}$ gives us samples of $\\widehat{u}$ at wavenumbers $\\{(\\sigma_i \\mathbf{n}_{\\theta_j})\\}$, with $\\sigma_i = \\ldots$ (assuming again that $f_{ij} = f(i \\cdot \\Delta s ,\n",
    "\\theta_j)$)\n",
    "* To usefully apply the inverse DFT, we need $\\widehat{u}$ at wavenumbers $\\{(\\ldots, \\ldots)\\}$."
   ]
  },
  {
   "cell_type": "markdown",
   "metadata": {
    "slideshow": {
     "slide_type": "subslide"
    }
   },
   "source": [
    "A linear interpolation scheme ..."
   ]
  },
  {
   "cell_type": "markdown",
   "metadata": {
    "slideshow": {
     "slide_type": "subslide"
    }
   },
   "source": [
    "Representing the sinogram and image as vectors, the image recontruction step can be represented as \n",
    "\n",
    "$$\\mathbf{u} = (F^{-1} \\otimes F^{-1}) T (I \\otimes F) \\mathbf{f}.$$\n",
    "\n",
    "In Python, we would implement this as \n",
    "\n",
    "```python\n",
    "u .. \n",
    "```"
   ]
  },
  {
   "cell_type": "markdown",
   "metadata": {
    "slideshow": {
     "slide_type": "slide"
    }
   },
   "source": [
    "## The Non-Uniform Fourier Transform\n",
    "\n",
    "We can avoid the interpolation step by applying a *non-uniform FFT*."
   ]
  }
 ],
 "metadata": {
  "celltoolbar": "Slideshow",
  "kernelspec": {
   "display_name": "Python 3",
   "language": "python",
   "name": "python3"
  },
  "language_info": {
   "codemirror_mode": {
    "name": "ipython",
    "version": 3
   },
   "file_extension": ".py",
   "mimetype": "text/x-python",
   "name": "python",
   "nbconvert_exporter": "python",
   "pygments_lexer": "ipython3",
   "version": "3.8.5"
  }
 },
 "nbformat": 4,
 "nbformat_minor": 4
}
