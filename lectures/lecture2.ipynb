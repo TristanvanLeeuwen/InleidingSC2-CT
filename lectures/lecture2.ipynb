{
 "cells": [
  {
   "cell_type": "markdown",
   "metadata": {
    "slideshow": {
     "slide_type": "slide"
    }
   },
   "source": [
    "# Lecture 2 - Fourier reconstruction"
   ]
  },
  {
   "cell_type": "markdown",
   "metadata": {
    "slideshow": {
     "slide_type": "slide"
    }
   },
   "source": [
    "# Contents\n",
    "\n",
    "* The Fourier-Slice Theorem\n",
    "* Fourier reconstruction"
   ]
  },
  {
   "cell_type": "markdown",
   "metadata": {
    "slideshow": {
     "slide_type": "slide"
    }
   },
   "source": [
    "# The Fourier-Slice Theorem"
   ]
  },
  {
   "cell_type": "markdown",
   "metadata": {
    "slideshow": {
     "slide_type": "subslide"
    }
   },
   "source": [
    "The Fourier-Slice Theorem relates the 2D-Fourier transform of $u$ to the 1D-Fourier transform of $f$:\n",
    "\n",
    "$$\\widehat{f}(\\sigma,\\theta) = \\widehat{u}(|\\sigma| \\mathbf{n}_\\theta),$$\n",
    "\n",
    "with\n",
    "\n",
    "$$\\widehat{f}(\\sigma,\\theta) = \\int_{\\mathbb{R}} f(s,\\theta) e^{-2\\pi\\imath \\sigma s}\\mathrm{d}s,$$\n",
    "\n",
    "$$\\widehat{u}(\\mathbf{k}) = \\int_{\\mathbb{R}^2} u(\\mathbf{x}) e^{-2\\pi\\imath \\mathbf{k}\\cdot \\mathbf{x}}\\mathrm{d}\\mathbf{x},$$\n",
    "\n",
    "$$\\mathbf{n}_\\theta = (\\cos\\theta,\\sin\\theta).$$"
   ]
  },
  {
   "cell_type": "markdown",
   "metadata": {
    "slideshow": {
     "slide_type": "subslide"
    }
   },
   "source": [
    "We can visualise this as follows\n",
    "\n",
    "![](https://upload.wikimedia.org/wikipedia/commons/thumb/9/97/Radon_transform_via_Fourier_transform.png/2000px-Radon_transform_via_Fourier_transform.png)"
   ]
  },
  {
   "cell_type": "markdown",
   "metadata": {
    "slideshow": {
     "slide_type": "slide"
    }
   },
   "source": [
    "# Fourier reconstruction"
   ]
  },
  {
   "cell_type": "markdown",
   "metadata": {
    "slideshow": {
     "slide_type": "subslide"
    }
   },
   "source": [
    "* In principle, we can reconstruct the image by performing an inverse Fourier transform\n",
    "* Having collected *discrete* measurements $f_{ij} = f(s_i,\\theta_j)$, we only have partial information on the Fourier transform of $u$\n",
    "* Ultimately, we will represent $u$ on a grid of pixels with intenties $u_i = u(\\mathbf{x}_i)$"
   ]
  },
  {
   "cell_type": "markdown",
   "metadata": {
    "slideshow": {
     "slide_type": "subslide"
    }
   },
   "source": [
    "## The Discrete Fourier Transform\n",
    "\n",
    "The *discrete Fourier transform (DFT)* of a sequence $\\{g_i\\}_{i=0}^n$ is defined as\n",
    "\n",
    "$$\\widehat{g}_i = \\sum_{j=0}^{n-1} g_j \\exp\\left(-\\frac{2\\pi\\imath}{n} ij\\right), \\quad i = 0, \\ldots, n-1.$$\n",
    "\n",
    "If $g_i = g(i\\cdot\\Delta x)$, then $\\widehat{g}_i = \\widehat{g}( \\ldots )$."
   ]
  },
  {
   "cell_type": "markdown",
   "metadata": {
    "slideshow": {
     "slide_type": "fragment"
    }
   },
   "source": [
    "In matrix-vector notation, we express this as\n",
    "\n",
    "$$\\widehat{\\mathbf{g}} = F\\mathbf{g},$$\n",
    "\n",
    "with $F_{ij} = \\exp\\left(-\\frac{2\\pi\\imath}{n} ij\\right)$."
   ]
  },
  {
   "cell_type": "markdown",
   "metadata": {
    "slideshow": {
     "slide_type": "fragment"
    }
   },
   "source": [
    "The inverse is given by\n",
    "\n",
    "$$F^{-1} = n^{-1} F^*.$$"
   ]
  },
  {
   "cell_type": "markdown",
   "metadata": {
    "slideshow": {
     "slide_type": "subslide"
    }
   },
   "source": [
    "Be aware that some interesting things may happen with the DFT, when subsampling or truncating the signals."
   ]
  },
  {
   "cell_type": "markdown",
   "metadata": {
    "slideshow": {
     "slide_type": "subslide"
    }
   },
   "source": [
    "## The Fast Fourier Transform\n",
    "\n",
    "A naive implementation would require $\\mathcal{O}(n^2)$ operations to multiply by $F$. With some clever tricks, however, it can be done in $\\mathcal{O}(n\\log n)$."
   ]
  },
  {
   "cell_type": "markdown",
   "metadata": {
    "slideshow": {
     "slide_type": "subslide"
    }
   },
   "source": [
    "## Interpolation\n",
    "\n",
    "* Applying the Fourier transform to $f_{ij}$ gives us samples of $\\widehat{u}$ at wavenumbers $\\{(\\sigma_i \\mathbf{n}_{\\theta_j})\\}$, with $\\sigma_i = \\ldots$ (assuming again that $f_{ij} = f(i \\cdot \\Delta s ,\n",
    "\\theta_j)$)\n",
    "* To usefully apply the inverse DFT, we need $\\widehat{u}$ at wavenumbers $\\{(\\ldots, \\ldots)\\}$."
   ]
  },
  {
   "cell_type": "markdown",
   "metadata": {
    "slideshow": {
     "slide_type": "subslide"
    }
   },
   "source": [
    "A linear interpolation scheme ..."
   ]
  },
  {
   "cell_type": "code",
   "execution_count": null,
   "metadata": {
    "slideshow": {
     "slide_type": "skip"
    }
   },
   "outputs": [],
   "source": [
    "import numpy as np\n",
    "import matplotlib.pyplot as plt\n",
    "from skimage.draw import disk\n",
    "from skimage.transform import radon\n",
    "from scipy.fft import fft2, ifft2, fft, ifft, fftfreq, fftshift\n",
    "from scipy.interpolate import LinearNDInterpolator\n",
    "\n",
    "# settings\n",
    "nx = 32\n",
    "na = 32\n",
    "theta = np.linspace(0., 180., na)\n",
    "s = np.linspace(-1,1,nx)\n",
    "\n",
    "# phantom\n",
    "ii,jj = disk((nx//2+nx//8,nx//2+nx//8),0.2 * (nx//2))\n",
    "\n",
    "u = np.zeros((nx,nx))\n",
    "u[ii,jj] = 1\n",
    "\n",
    "# sinogram\n",
    "f = radon(u, theta=theta)\n",
    "\n",
    "# fourier transform of sinogram\n",
    "fh = fft(fftshift(f,axes=0),axis=0)\n",
    "sigma = fftfreq(nx,s[1]-s[0])\n",
    "kk1 = np.outer(sigma,np.cos(np.pi*theta/180))\n",
    "kk2 = np.outer(sigma,-np.sin(np.pi*theta/180))\n",
    "\n",
    "# target grid\n",
    "k = fftfreq(nx,(s[1]-s[0]))\n",
    "kt1,kt2 = np.meshgrid(k,k)\n",
    "\n",
    "# interpolation\n",
    "uh = LinearNDInterpolator(np.stack((kk1.ravel(),kk2.ravel()),axis=1),fh.ravel(),fill_value=0)(kt1,kt2)\n",
    "#uh = griddata((kk1.ravel(),kk2.ravel()),fh.ravel(),(kt1.ravel(),kt2.ravel()),fill_value=0)]\n",
    "\n",
    "# ifft\n",
    "ur = np.real(fftshift(ifft2(uh.reshape(nx,nx))))"
   ]
  },
  {
   "cell_type": "code",
   "execution_count": null,
   "metadata": {},
   "outputs": [],
   "source": [
    "fig,ax = plt.subplots(1,3)\n",
    "\n",
    "ax[0].plot(kk1.ravel(),kk2.ravel(),'.',alpha=.1)\n",
    "ax[0].plot(kt1.ravel(),kt2.ravel(),'r.',alpha=.1)\n",
    "ax[0].set_aspect(1)\n",
    "\n",
    "ax[1].scatter(kk1.ravel(),kk2.ravel(),c=np.abs(fh.ravel()))\n",
    "ax[1].set_aspect(1)\n",
    "\n",
    "ax[2].imshow(np.abs(fftshift(uh.reshape(nx,nx))),extent=(-max(k),max(k),-max(k),max(k)))\n",
    "ax[2].set_aspect(1)\n",
    "\n",
    "fig.tight_layout()\n",
    "fig.set_figwidth(10)"
   ]
  },
  {
   "cell_type": "code",
   "execution_count": null,
   "metadata": {},
   "outputs": [],
   "source": [
    "fig,ax = plt.subplots(1,2)\n",
    "\n",
    "ax[0].imshow(u,extent=(-1,1,-1,1))\n",
    "ax[1].imshow(ur,extent=(-1,1,-1,1))"
   ]
  },
  {
   "cell_type": "markdown",
   "metadata": {
    "slideshow": {
     "slide_type": "subslide"
    }
   },
   "source": [
    "Representing the sinogram and image as vectors, the image recontruction step can be represented as \n",
    "\n",
    "$$\\mathbf{u} = (F^{-1} \\otimes F^{-1}) T (I \\otimes F) \\mathbf{f}.$$\n",
    "\n",
    "In Python, we would implement this as \n",
    "\n",
    "```python\n",
    "u .. \n",
    "```"
   ]
  },
  {
   "cell_type": "markdown",
   "metadata": {
    "slideshow": {
     "slide_type": "slide"
    }
   },
   "source": [
    "## The Non-Uniform Fourier Transform\n",
    "\n",
    "We can avoid the interpolation step by applying a *non-uniform FFT*."
   ]
  },
  {
   "cell_type": "code",
   "execution_count": 1,
   "metadata": {},
   "outputs": [
    {
     "name": "stderr",
     "output_type": "stream",
     "text": [
      "/opt/anaconda3/lib/python3.8/site-packages/skimage/transform/radon_transform.py:87: VisibleDeprecationWarning: Creating an ndarray from ragged nested sequences (which is a list-or-tuple of lists-or-tuples-or ndarrays with different lengths or shapes) is deprecated. If you meant to do this, you must specify 'dtype=object' when creating the ndarray\n",
      "  coords = np.array(np.ogrid[:image.shape[0], :image.shape[1]])\n"
     ]
    }
   ],
   "source": [
    "import numpy as np\n",
    "import matplotlib.pyplot as plt\n",
    "from skimage.draw import disk\n",
    "from skimage.transform import radon\n",
    "from scipy.fft import fft2, ifft2, fft, ifft, fftfreq, fftshift\n",
    "from scipy.interpolate import LinearNDInterpolator\n",
    "\n",
    "from pynufft import NUFFT\n",
    "\n",
    "# settings\n",
    "nx = 32\n",
    "na = 32\n",
    "theta = np.linspace(0., 180., na)\n",
    "s = np.linspace(-1,1,nx)\n",
    "\n",
    "# phantom\n",
    "ii,jj = disk((nx//2+nx//8,nx//2+nx//8),0.2 * (nx//2))\n",
    "\n",
    "u = np.zeros((nx,nx))\n",
    "u[ii,jj] = 1\n",
    "\n",
    "# sinogram\n",
    "f = radon(u, theta=theta)\n",
    "\n",
    "# fourier transform of sinogram\n",
    "fh = fft(fftshift(f,axes=0),axis=0)\n",
    "sigma = fftfreq(nx,s[1]-s[0])\n",
    "kk1 = np.outer(sigma,np.cos(np.pi*theta/180))\n",
    "kk2 = np.outer(sigma,-np.sin(np.pi*theta/180))\n",
    "\n",
    "# target grid\n",
    "k = fftfreq(nx,(s[1]-s[0]))\n",
    "kt1,kt2 = np.meshgrid(k,k)\n",
    "\n",
    "# interpolation\n",
    "uh = LinearNDInterpolator(np.stack((kk1.ravel(),kk2.ravel()),axis=1),fh.ravel(),fill_value=0)(kt1,kt2)\n",
    "#uh = griddata((kk1.ravel(),kk2.ravel()),fh.ravel(),(kt1.ravel(),kt2.ravel()),fill_value=0)]\n",
    "\n",
    "# ifft\n",
    "ur = np.real(fftshift(ifft2(uh.reshape(nx,nx))))"
   ]
  },
  {
   "cell_type": "code",
   "execution_count": null,
   "metadata": {},
   "outputs": [],
   "source": []
  }
 ],
 "metadata": {
  "celltoolbar": "Slideshow",
  "kernelspec": {
   "display_name": "Python 3",
   "language": "python",
   "name": "python3"
  },
  "language_info": {
   "codemirror_mode": {
    "name": "ipython",
    "version": 3
   },
   "file_extension": ".py",
   "mimetype": "text/x-python",
   "name": "python",
   "nbconvert_exporter": "python",
   "pygments_lexer": "ipython3",
   "version": "3.8.5"
  }
 },
 "nbformat": 4,
 "nbformat_minor": 4
}
