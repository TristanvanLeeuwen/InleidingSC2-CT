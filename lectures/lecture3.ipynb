{
 "cells": [
  {
   "cell_type": "markdown",
   "metadata": {
    "slideshow": {
     "slide_type": "slide"
    }
   },
   "source": [
    "# Lecture 3 - Discretisation of the Radon Transform"
   ]
  },
  {
   "cell_type": "markdown",
   "metadata": {
    "slideshow": {
     "slide_type": "slide"
    }
   },
   "source": [
    "# Contents\n",
    "\n",
    "* The discrete Radon transform\n",
    "* Sparse matrices\n",
    "* Matrix-free implementation\n",
    "* Assignments"
   ]
  },
  {
   "cell_type": "markdown",
   "metadata": {
    "slideshow": {
     "slide_type": "slide"
    }
   },
   "source": [
    "# The Discrete Radon Transform\n"
   ]
  },
  {
   "cell_type": "markdown",
   "metadata": {
    "slideshow": {
     "slide_type": "subslide"
    }
   },
   "source": [
    "The Radon transform is defined as \n",
    "\n",
    "$$f(s,\\theta) = \\int_{-\\infty}^\\infty u\\left(x(s,t), y(s,t)\\right) \\mathrm{d}t,$$\n",
    "\n",
    "with\n",
    "\n",
    "$$x(s,t) = s \\cos \\theta + t \\sin \\theta, \\quad y(s,t) = s \\sin \\theta - t\\cos\\theta.$$"
   ]
  },
  {
   "cell_type": "markdown",
   "metadata": {
    "slideshow": {
     "slide_type": "subslide"
    }
   },
   "source": [
    "* Let $s \\in [-1,1]$ and discretise the detector in $n_d$ cells with width $2/n_d$.\n",
    "* Let $(x,y) \\in [-1,1]^2$ and discretise the image in $n_x \\times n_y$ pixels with size $2/n_x \\times 2/n_y$.\n",
    "* The contribution of the $j-th$ pixel to the $i-th$ detector element at angle $\\theta$ is then given by \n",
    "\n",
    "$$a_{ij}(\\theta) = ....$$\n",
    "\n",
    "* The measurement along a single angle then leads to a matrix $A(\\theta) \\in \\mathbb{R}^{n_d \\times n_x \\times n_y}$"
   ]
  },
  {
   "cell_type": "markdown",
   "metadata": {
    "slideshow": {
     "slide_type": "subslide"
    }
   },
   "source": [
    "We can now easily compute the matrix elements for a given set of angles $\\{\\theta_k\\}_{k=1}^{n_\\theta}$ and define\n",
    "\n",
    "$$A = \\left( \\begin{matrix} A(\\theta_1) \\\\ A(\\theta_2) \\\\ \\vdots \\\\ A(\\theta_k)\\end{matrix}\\right).$$\n",
    "\n",
    "The vectorised discretised sinogram and image are then related via\n",
    "\n",
    "$$\\mathbf{f} = A\\mathbf{u}.$$"
   ]
  },
  {
   "cell_type": "markdown",
   "metadata": {
    "slideshow": {
     "slide_type": "slide"
    }
   },
   "source": [
    "# Sparse matrices"
   ]
  },
  {
   "cell_type": "markdown",
   "metadata": {
    "slideshow": {
     "slide_type": "slide"
    }
   },
   "source": [
    "# Matrix-free implementation"
   ]
  },
  {
   "cell_type": "markdown",
   "metadata": {
    "slideshow": {
     "slide_type": "slide"
    }
   },
   "source": [
    "# Assignments"
   ]
  },
  {
   "cell_type": "code",
   "execution_count": null,
   "metadata": {},
   "outputs": [],
   "source": []
  }
 ],
 "metadata": {
  "celltoolbar": "Slideshow",
  "kernelspec": {
   "display_name": "Python 3",
   "language": "python",
   "name": "python3"
  },
  "language_info": {
   "codemirror_mode": {
    "name": "ipython",
    "version": 3
   },
   "file_extension": ".py",
   "mimetype": "text/x-python",
   "name": "python",
   "nbconvert_exporter": "python",
   "pygments_lexer": "ipython3",
   "version": "3.8.5"
  }
 },
 "nbformat": 4,
 "nbformat_minor": 4
}
