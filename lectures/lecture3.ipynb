{
 "cells": [
  {
   "cell_type": "markdown",
   "metadata": {
    "slideshow": {
     "slide_type": "slide"
    }
   },
   "source": [
    "# Lecture 3 - Discretisation of the Radon Transform"
   ]
  },
  {
   "cell_type": "markdown",
   "metadata": {
    "slideshow": {
     "slide_type": "slide"
    }
   },
   "source": [
    "# Contents\n",
    "\n",
    "* The discrete Radon transform\n",
    "* Sparse matrices\n",
    "* Matrix-free implementation\n",
    "* Assignments"
   ]
  },
  {
   "cell_type": "markdown",
   "metadata": {
    "slideshow": {
     "slide_type": "slide"
    }
   },
   "source": [
    "# The Discrete Radon Transform\n"
   ]
  },
  {
   "cell_type": "markdown",
   "metadata": {
    "slideshow": {
     "slide_type": "subslide"
    }
   },
   "source": [
    "The Radon transform is defined as \n",
    "\n",
    "$$f(\\theta,s) = \\int_{-\\infty}^\\infty u\\left(x(s,t), y(s,t)\\right) \\mathrm{d}t,$$\n",
    "\n",
    "with\n",
    "\n",
    "$$x(s,t) = t \\sin \\theta + s \\cos \\theta, \\quad y(s,t) = t\\cos\\theta - s \\sin \\theta.$$\n"
   ]
  },
  {
   "cell_type": "markdown",
   "metadata": {
    "slideshow": {
     "slide_type": "subslide"
    }
   },
   "source": [
    "* Let $s \\in [-1,1]$ and discretise the detector in $n_d$ cells with width $2/n_d$.\n",
    "* Let $(x,y) \\in [-1,1]^2$ and discretise the image in $n_x \\times n_y$ pixels with size $2/n_x \\times 2/n_y$.\n",
    "* Define basis functions $\\phi_j(x,y)$ that are supported on the $j-th$ pixel.\n",
    "* The contribution of the $j-th$ pixel to the $i-th$ detector element at angle $\\theta$ is then given by \n",
    "\n",
    "$$a_{ij}(\\theta) = \\int_{-\\infty}^\\infty \\phi_j\\left(x(s_i,t), y(s_i,t)\\right) \\mathrm{d}t,$$\n",
    "\n",
    "* The measurement along a single angle then leads to a matrix $A(\\theta) \\in \\mathbb{R}^{n_d \\times n_x \\cdot n_y}$"
   ]
  },
  {
   "cell_type": "markdown",
   "metadata": {
    "slideshow": {
     "slide_type": "subslide"
    }
   },
   "source": [
    "We can now easily compute the matrix elements for a given set of angles $\\{\\theta_k\\}_{k=1}^{n_\\theta}$ and define\n",
    "\n",
    "$$A = \\left( \\begin{matrix} A(\\theta_1) \\\\ A(\\theta_2) \\\\ \\vdots \\\\ A(\\theta_k)\\end{matrix}\\right).$$\n",
    "\n",
    "The vectorised discretised sinogram and image are then related via\n",
    "\n",
    "$$\\mathbf{f} = A\\mathbf{u}.$$"
   ]
  },
  {
   "cell_type": "markdown",
   "metadata": {
    "slideshow": {
     "slide_type": "subslide"
    }
   },
   "source": [
    "## The line model\n",
    "\n",
    "* The weights $a_{ij}$ represent the length of the intersection between the $j-th$ ray and the $i-th$ pixel.\n",
    "* We can compute these efficiently by solving for $t$ from\n",
    "$$x = t \\sin \\theta + s \\cos \\theta, \\quad y = t\\cos\\theta - s \\sin \\theta,$$\n",
    "where $s$ is given and $x,y$ are the grid lines.\n",
    "* This yields an array of intersection points $\\{t_k\\}_k$ along the ray and $t_{k} - t_{k-1}$ gives the intersection length\n",
    "* Substituting $(t_{k} + t_{k-1})/2$ back in the line equation and rounding yields the central coordinates of the intersected pixels\n",
    "* We can use these to compute the indices $i$ of the pixels that are intersected by the $j-th$ ray"
   ]
  },
  {
   "cell_type": "code",
   "execution_count": 43,
   "metadata": {
    "slideshow": {
     "slide_type": "subslide"
    }
   },
   "outputs": [],
   "source": [
    "import numpy as np\n",
    "\n",
    "x = np.array([-1, -.5, 0, .5, 1])\n",
    "y = np.array([-1, -.5, 0, .5, 1])\n",
    "h = 0.5\n",
    "s = np.array([-1.25, -.75, -.25, .25, .75, 1.25])\n",
    "\n",
    "theta = 1\n",
    "si = -.5\n",
    "\n",
    "tx = (x - si*np.cos(theta)) / np.sin(theta)\n",
    "ty = -(y - si*np.sin(theta)) / np.cos(theta)\n",
    "t  = np.sort(np.concatenate((tx,ty)))\n",
    "\n",
    "xi = si*np.cos(theta) + t*np.sin(theta)\n",
    "yi = si*np.sin(theta) - t*np.cos(theta)\n",
    "\n",
    "xc = h*((si*np.cos(theta) + 0.5*(t[0:-1]+t[1:])*np.sin(theta))//h) + h/2\n",
    "yc = h*((si*np.sin(theta) - 0.5*(t[0:-1]+t[1:])*np.cos(theta))//h) + h/2"
   ]
  },
  {
   "cell_type": "code",
   "execution_count": 46,
   "metadata": {
    "slideshow": {
     "slide_type": "skip"
    }
   },
   "outputs": [
    {
     "data": {
      "image/png": "[encoded data removed]",
      "text/plain": [
       "<Figure size 432x288 with 1 Axes>"
      ]
     },
     "metadata": {
      "needs_background": "light"
     },
     "output_type": "display_data"
    }
   ],
   "source": [
    "import matplotlib.pyplot as plt\n",
    "\n",
    "ts = np.linspace(t[0],t[-1],100)\n",
    "xx,yy = np.meshgrid(x,y)\n",
    "\n",
    "fig, ax = plt.subplots()\n",
    "\n",
    "ax.plot(xx,yy,'b')\n",
    "ax.plot(yy,xx,'b')\n",
    "\n",
    "ax.plot(si*np.cos(theta) + ts*np.sin(theta),si*np.sin(theta) - ts*np.cos(theta),'g')\n",
    "ax.plot(s*np.cos(theta), s*np.sin(theta),'g-o')\n",
    "\n",
    "ax.plot(xi,yi,'r*')\n",
    "ax.plot(xc,yc,'bx')\n",
    "\n",
    "ax.set_aspect(1)\n",
    "ax.set_xlim([-2,2])\n",
    "ax.set_ylim([-2,2])\n",
    "ax.set_xlabel(r'$x$')\n",
    "ax.set_ylabel(r'$y$')\n",
    "\n",
    "plt.savefig('./figures/lecture3/linemodel.png',dpi=300)"
   ]
  },
  {
   "cell_type": "markdown",
   "metadata": {
    "slideshow": {
     "slide_type": "subslide"
    }
   },
   "source": [
    "![](./figures/lecture3/linemodel.png)"
   ]
  },
  {
   "cell_type": "markdown",
   "metadata": {
    "slideshow": {
     "slide_type": "slide"
    }
   },
   "source": [
    "# Sparse matrices"
   ]
  },
  {
   "cell_type": "markdown",
   "metadata": {
    "slideshow": {
     "slide_type": "subslide"
    }
   },
   "source": [
    "* Let $n_x = n_y = n$ and $n_d = n_\\theta = n$.\n",
    "* We can easily see that we only have $\\mathcal{O}(n)$ non-zeros in each row of the matrix; so $\\mathcal{O}(n^3)$ non-zeros in total\n",
    "* It is not very attractive to store and compute with all the zero-entries explicitly"
   ]
  },
  {
   "cell_type": "markdown",
   "metadata": {
    "slideshow": {
     "slide_type": "subslide"
    }
   },
   "source": [
    "## Sparse matrix formats\n",
    "\n",
    "* `coo_array` Coordinate format\n",
    "* `csc_array` Compressed Sparse Column format\n",
    "* `csr_array` Compressed Sparse Row format"
   ]
  },
  {
   "cell_type": "markdown",
   "metadata": {
    "slideshow": {
     "slide_type": "subslide"
    }
   },
   "source": [
    "### COO\n",
    "\n",
    "![](https://matteding.github.io/images/coo.gif)"
   ]
  },
  {
   "cell_type": "markdown",
   "metadata": {
    "slideshow": {
     "slide_type": "subslide"
    }
   },
   "source": [
    "### CSC\n",
    "\n",
    "![](https://matteding.github.io/images/csc.gif)"
   ]
  },
  {
   "cell_type": "markdown",
   "metadata": {
    "slideshow": {
     "slide_type": "subslide"
    }
   },
   "source": [
    "### CSR\n",
    "\n",
    "![](https://matteding.github.io/images/csr.gif)"
   ]
  },
  {
   "cell_type": "markdown",
   "metadata": {
    "slideshow": {
     "slide_type": "slide"
    }
   },
   "source": [
    "# Matrix-free implementation"
   ]
  },
  {
   "cell_type": "markdown",
   "metadata": {
    "slideshow": {
     "slide_type": "subslide"
    }
   },
   "source": [
    "* For 3D applications, we'd end up with a matrix with $\\mathcal{O}(n^4)$ non-zeros\n",
    "* Using double precision, storage may take several Terabytes in practice ($n = 1000$).\n",
    "* Can we instead compute the matrix elements on-the-fly?"
   ]
  },
  {
   "cell_type": "markdown",
   "metadata": {
    "slideshow": {
     "slide_type": "subslide"
    }
   },
   "source": [
    "* We can write a function to perform multiplication of $A$ by a given vector *implicitly*\n",
    "* This avoids storage, but may induce some computational overhead\n",
    "* We *cannot* access individual elements of the matrix easily\n",
    "* We need to write a seperate function to multiply with the transpose of the matrix"
   ]
  },
  {
   "cell_type": "markdown",
   "metadata": {
    "slideshow": {
     "slide_type": "subslide"
    }
   },
   "source": [
    "## An example\n",
    "\n",
    "Consider a finite-difference matrix\n",
    "\n",
    "$$A = \\left(\\begin{matrix}-2 & 1& 0  & \\ldots & \\\\ 1 & -2 & 1 & 0 \\\\ & \\ddots & \\ddots & \\ddots & \\\\ 0 & \\ldots &0 & 1 & -2 \\end{matrix}\\right).$$\n",
    "\n",
    "The function would look like\n",
    "\n",
    "```python \n",
    "def FD(u, n):\n",
    "    v       = np.zeros(n)\n",
    "    v[0]    = -2*u[0] + u[1]\n",
    "    v[1:-1] = u[:-2] - 2*u[1:-1] + u[2:]\n",
    "    v[-1]   = u[-2] - 2*u[-1]\n",
    "    \n",
    "```"
   ]
  },
  {
   "cell_type": "markdown",
   "metadata": {
    "slideshow": {
     "slide_type": "subslide"
    }
   },
   "source": [
    "## Another example\n",
    "\n",
    "Consider summing the elements of a vector\n",
    "\n",
    "$$A = (1, 1, 1, \\ldots, 1).$$\n",
    "\n",
    "```python\n",
    "def sum(u,n):\n",
    "    return np.sum(u)\n",
    "```"
   ]
  },
  {
   "cell_type": "markdown",
   "metadata": {
    "slideshow": {
     "slide_type": "fragment"
    }
   },
   "source": [
    "```python\n",
    "def sum_transpose(v,n):\n",
    "    u = v * np.ones(n)\n",
    "```"
   ]
  },
  {
   "cell_type": "markdown",
   "metadata": {
    "slideshow": {
     "slide_type": "slide"
    }
   },
   "source": [
    "# Assignments"
   ]
  },
  {
   "cell_type": "markdown",
   "metadata": {
    "slideshow": {
     "slide_type": "subslide"
    }
   },
   "source": [
    "## Assignment 1\n",
    "\n",
    "Write a function `RadonMatrix(n, s, theta)` that discretizes the Radon transform of a given `n` $\\times$ `n` image, defined on $[-1,1]^2$, for given arrays `s` and `theta` and returns a matrix of size `len(s)*len(theta)` by `n*n`.\n",
    "\n",
    "You can start with a loop that traces each ray individually and computes the weights in the matrix according to the procedure we outlined in class. If you are familiar with `numpy` you can attempt to make it more efficient."
   ]
  },
  {
   "cell_type": "markdown",
   "metadata": {
    "slideshow": {
     "slide_type": "subslide"
    }
   },
   "source": [
    "## Assignment 2\n",
    "\n",
    "Write a function `RadonSparseMatrix` which returns a sparse matrix representation of `RadonMatrix`.\n",
    "\n",
    "* Check that it indeed gives the same ouput as `RadonMatrix`\n",
    "* Do you notice a difference in computational time for dense and sparse matrices?\n",
    "* Check the above for multiplication with the matrix and its tranpose for various sparse matrix formats"
   ]
  },
  {
   "cell_type": "markdown",
   "metadata": {
    "slideshow": {
     "slide_type": "subslide"
    }
   },
   "source": [
    "## Assignment 3\n",
    "\n",
    "Write a function `Radon(u, n, s, theta)` which performs the Radon transform of the given image `u` and the corresponding transpose `RadonTranspose(f, n, s, theta)`.\n",
    "\n",
    "* Check that they give the same result as multiplying by the matrix\n",
    "* Check the computational time and memory requirements"
   ]
  }
 ],
 "metadata": {
  "celltoolbar": "Slideshow",
  "kernelspec": {
   "display_name": "Python 3",
   "language": "python",
   "name": "python3"
  },
  "language_info": {
   "codemirror_mode": {
    "name": "ipython",
    "version": 3
   },
   "file_extension": ".py",
   "mimetype": "text/x-python",
   "name": "python",
   "nbconvert_exporter": "python",
   "pygments_lexer": "ipython3",
   "version": "3.8.5"
  }
 },
 "nbformat": 4,
 "nbformat_minor": 4
}
