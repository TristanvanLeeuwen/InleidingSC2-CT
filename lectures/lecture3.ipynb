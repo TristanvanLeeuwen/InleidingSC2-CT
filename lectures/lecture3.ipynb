{
 "cells": [
  {
   "cell_type": "markdown",
   "metadata": {
    "slideshow": {
     "slide_type": "slide"
    }
   },
   "source": [
    "# Lecture 3 - Discretisation of the Radon Transform"
   ]
  },
  {
   "cell_type": "markdown",
   "metadata": {
    "slideshow": {
     "slide_type": "slide"
    }
   },
   "source": [
    "# Contents\n",
    "\n",
    "* The discrete Radon transform\n",
    "* Sparse matrices\n",
    "* Matrix-free implementation\n",
    "* Assignments"
   ]
  },
  {
   "cell_type": "markdown",
   "metadata": {
    "slideshow": {
     "slide_type": "slide"
    }
   },
   "source": [
    "# The Discrete Radon Transform\n"
   ]
  },
  {
   "cell_type": "markdown",
   "metadata": {
    "slideshow": {
     "slide_type": "subslide"
    }
   },
   "source": [
    "The Radon transform is defined as \n",
    "\n",
    "$$f(s,\\theta) = \\int_{-\\infty}^\\infty u\\left(x(s,t), y(s,t)\\right) \\mathrm{d}t,$$\n",
    "\n",
    "with\n",
    "\n",
    "$$x(s,t) = s \\cos \\theta + t \\sin \\theta, \\quad y(s,t) = s \\sin \\theta - t\\cos\\theta.$$"
   ]
  },
  {
   "cell_type": "markdown",
   "metadata": {
    "slideshow": {
     "slide_type": "subslide"
    }
   },
   "source": [
    "* Let $s \\in [-1,1]$ and discretise the detector in $n_d$ cells with width $2/n_d$.\n",
    "* Let $(x,y) \\in [-1,1]^2$ and discretise the image in $n_x \\times n_y$ pixels with size $2/n_x \\times 2/n_y$.\n",
    "* The contribution of the $j-th$ pixel to the $i-th$ detector element at angle $\\theta$ is then given by \n",
    "\n",
    "$$a_{ij}(\\theta) = \\int_{-\\infty}^\\infty \\phi_j\\left(x(s_i,t), y(s_i,t)\\right) \\mathrm{d}t,$$\n",
    "\n",
    "with $\\phi_j(x,y)$ is supported on the $j-th$ pixel.\n",
    "\n",
    "* The measurement along a single angle then leads to a matrix $A(\\theta) \\in \\mathbb{R}^{n_d \\times n_x \\dot n_y}$"
   ]
  },
  {
   "cell_type": "markdown",
   "metadata": {
    "slideshow": {
     "slide_type": "subslide"
    }
   },
   "source": [
    "We can now easily compute the matrix elements for a given set of angles $\\{\\theta_k\\}_{k=1}^{n_\\theta}$ and define\n",
    "\n",
    "$$A = \\left( \\begin{matrix} A(\\theta_1) \\\\ A(\\theta_2) \\\\ \\vdots \\\\ A(\\theta_k)\\end{matrix}\\right).$$\n",
    "\n",
    "The vectorised discretised sinogram and image are then related via\n",
    "\n",
    "$$\\mathbf{f} = A\\mathbf{u}.$$"
   ]
  },
  {
   "cell_type": "markdown",
   "metadata": {
    "slideshow": {
     "slide_type": "subslide"
    }
   },
   "source": [
    "## The line model\n",
    "\n",
    "* The weights $a_{ij}$ represent the length of the intersection between the $j-th$ ray and the $i-th$ pixel.\n",
    "* We can compute these efficiently by solving for $t$ from\n",
    "$$x = s \\cos \\theta + t \\sin \\theta, \\quad y = s \\sin \\theta - t\\cos\\theta,$$\n",
    "where $s$ is given and $x,y$ are the grid lines.\n",
    "* This yields an array of intersection points $\\{t_i\\}_i$ along the ray and $t_{i} - t_{i-1}$ gives the intersection length"
   ]
  },
  {
   "cell_type": "code",
   "execution_count": 19,
   "metadata": {
    "slideshow": {
     "slide_type": "subslide"
    }
   },
   "outputs": [],
   "source": [
    "import numpy as np\n",
    "\n",
    "x = np.array([-1, -.5, 0, .5, 1])\n",
    "y = np.array([-1, -.5, 0, .5, 1])\n",
    "\n",
    "s = .1\n",
    "theta = 1\n",
    "\n",
    "tx = (x - s*np.cos(theta)) / np.sin(theta)\n",
    "ty = -(y - s*np.sin(theta)) / np.cos(theta)\n",
    "t = np.sort(np.concatenate((tx,ty)))\n",
    "\n",
    "xi = s*np.cos(theta) + t*np.sin(theta)\n",
    "yi = s*np.sin(theta) - t*np.cos(theta)\n"
   ]
  },
  {
   "cell_type": "code",
   "execution_count": 25,
   "metadata": {
    "slideshow": {
     "slide_type": "skip"
    }
   },
   "outputs": [
    {
     "data": {
      "text/plain": [
       "(-1.0, 1.0)"
      ]
     },
     "execution_count": 25,
     "metadata": {},
     "output_type": "execute_result"
    },
    {
     "data": {
      "image/png": "[encoded data removed]",
      "text/plain": [
       "<Figure size 432x288 with 1 Axes>"
      ]
     },
     "metadata": {
      "needs_background": "light"
     },
     "output_type": "display_data"
    }
   ],
   "source": [
    "import matplotlib.pyplot as plt\n",
    "\n",
    "ts = np.linspace(t[0],t[-1],100)\n",
    "plt.plot(s*np.cos(theta) + ts*np.sin(theta),s*np.sin(theta) - ts*np.cos(theta))\n",
    "plt.plot(xi,yi,'r*')\n",
    "plt.grid(markevery=(1,1),which='both')\n",
    "plt.xlim([-1,1])\n",
    "plt.ylim([-1,1])"
   ]
  },
  {
   "cell_type": "code",
   "execution_count": 15,
   "metadata": {},
   "outputs": [
    {
     "name": "stdout",
     "output_type": "stream",
     "text": [
      "Help on function grid in module matplotlib.pyplot:\n",
      "\n",
      "grid(visible=None, which='major', axis='both', **kwargs)\n",
      "    Configure the grid lines.\n",
      "    \n",
      "    Parameters\n",
      "    ----------\n",
      "    visible : bool or None, optional\n",
      "        Whether to show the grid lines.  If any *kwargs* are supplied, it\n",
      "        is assumed you want the grid on and *visible* will be set to True.\n",
      "    \n",
      "        If *visible* is *None* and there are no *kwargs*, this toggles the\n",
      "        visibility of the lines.\n",
      "    \n",
      "    which : {'major', 'minor', 'both'}, optional\n",
      "        The grid lines to apply the changes on.\n",
      "    \n",
      "    axis : {'both', 'x', 'y'}, optional\n",
      "        The axis to apply the changes on.\n",
      "    \n",
      "    **kwargs : `.Line2D` properties\n",
      "        Define the line properties of the grid, e.g.::\n",
      "    \n",
      "            grid(color='r', linestyle='-', linewidth=2)\n",
      "    \n",
      "        Valid keyword arguments are:\n",
      "    \n",
      "        Properties:\n",
      "        agg_filter: a filter function, which takes a (m, n, 3) float array and a dpi value, and returns a (m, n, 3) array\n",
      "        alpha: scalar or None\n",
      "        animated: bool\n",
      "        antialiased or aa: bool\n",
      "        clip_box: `.Bbox`\n",
      "        clip_on: bool\n",
      "        clip_path: Patch or (Path, Transform) or None\n",
      "        color or c: color\n",
      "        dash_capstyle: `.CapStyle` or {'butt', 'projecting', 'round'}\n",
      "        dash_joinstyle: `.JoinStyle` or {'miter', 'round', 'bevel'}\n",
      "        dashes: sequence of floats (on/off ink in points) or (None, None)\n",
      "        data: (2, N) array or two 1D arrays\n",
      "        drawstyle or ds: {'default', 'steps', 'steps-pre', 'steps-mid', 'steps-post'}, default: 'default'\n",
      "        figure: `.Figure`\n",
      "        fillstyle: {'full', 'left', 'right', 'bottom', 'top', 'none'}\n",
      "        gid: str\n",
      "        in_layout: bool\n",
      "        label: object\n",
      "        linestyle or ls: {'-', '--', '-.', ':', '', (offset, on-off-seq), ...}\n",
      "        linewidth or lw: float\n",
      "        marker: marker style string, `~.path.Path` or `~.markers.MarkerStyle`\n",
      "        markeredgecolor or mec: color\n",
      "        markeredgewidth or mew: float\n",
      "        markerfacecolor or mfc: color\n",
      "        markerfacecoloralt or mfcalt: color\n",
      "        markersize or ms: float\n",
      "        markevery: None or int or (int, int) or slice or list[int] or float or (float, float) or list[bool]\n",
      "        path_effects: `.AbstractPathEffect`\n",
      "        picker: float or callable[[Artist, Event], tuple[bool, dict]]\n",
      "        pickradius: float\n",
      "        rasterized: bool\n",
      "        sketch_params: (scale: float, length: float, randomness: float)\n",
      "        snap: bool or None\n",
      "        solid_capstyle: `.CapStyle` or {'butt', 'projecting', 'round'}\n",
      "        solid_joinstyle: `.JoinStyle` or {'miter', 'round', 'bevel'}\n",
      "        transform: unknown\n",
      "        url: str\n",
      "        visible: bool\n",
      "        xdata: 1D array\n",
      "        ydata: 1D array\n",
      "        zorder: float\n",
      "    \n",
      "    Notes\n",
      "    -----\n",
      "    The axis is drawn as a unit, so the effective zorder for drawing the\n",
      "    grid is determined by the zorder of each axis, not by the zorder of the\n",
      "    `.Line2D` objects comprising the grid.  Therefore, to set grid zorder,\n",
      "    use `.set_axisbelow` or, for more control, call the\n",
      "    `~.Artist.set_zorder` method of each axis.\n",
      "\n"
     ]
    }
   ],
   "source": [
    "help(plt.grid)"
   ]
  },
  {
   "cell_type": "markdown",
   "metadata": {
    "slideshow": {
     "slide_type": "slide"
    }
   },
   "source": [
    "# Sparse matrices"
   ]
  },
  {
   "cell_type": "markdown",
   "metadata": {
    "slideshow": {
     "slide_type": "subslide"
    }
   },
   "source": [
    "* Let $n_x = n_y = n$ and $n_d = n_\\theta = n$.\n",
    "* We can easily see that we only have $\\mathcal{O}(n)$ non-zeros in each row of the matrix; so $\\mathcal{O}(n^3)$ non-zeros in total\n",
    "* It is not very attractive to store and compute with all the zero-entries explicitly"
   ]
  },
  {
   "cell_type": "markdown",
   "metadata": {
    "slideshow": {
     "slide_type": "subslide"
    }
   },
   "source": [
    "## Sparse matrix formats"
   ]
  },
  {
   "cell_type": "markdown",
   "metadata": {
    "slideshow": {
     "slide_type": "slide"
    }
   },
   "source": [
    "# Matrix-free implementation"
   ]
  },
  {
   "cell_type": "markdown",
   "metadata": {
    "slideshow": {
     "slide_type": "subslide"
    }
   },
   "source": [
    "* For 3D applications, we'd end up with a matrix with $\\mathcal{O}(n^4)$ non-zeros\n",
    "* Using double precision, storage may take several Terabytes in practice ($n = 1000$).\n",
    "* Can we instead compute the matrix elements on-the-fly?"
   ]
  },
  {
   "cell_type": "markdown",
   "metadata": {
    "slideshow": {
     "slide_type": "subslide"
    }
   },
   "source": [
    "* We can write a function to perform multiplication of $A$ by a given vector *implicitly*\n",
    "* This avoids storage, but may induce some computational overhead\n",
    "* We *cannot* access individual elements of the matrix easily\n",
    "* We need to write a seperate function to multiply with the transpose of the matrix"
   ]
  },
  {
   "cell_type": "markdown",
   "metadata": {},
   "source": [
    "## An example\n",
    "\n",
    "Consider a finite-difference matrix\n",
    "\n",
    "$$A = \\left(\\begin{matrix}-2 & 1& 0  & \\ldots & \\\\ 1 & -2 & 1 & 0 \\\\ & \\ddots & \\ddots & \\ddots & \\\\ 0 & \\ldots &0 & 1 & -2 \\end{matrix}\\right).$$\n",
    "\n",
    "The function would look like\n",
    "\n",
    "```python \n",
    "def FD(u, n):\n",
    "    v       = np.zeros(n)\n",
    "    v[0]    = -2*u[0] + u[1]\n",
    "    v[1:-1] = u[:-2] - 2*u[1:-1] + u[2:]\n",
    "    v[-1]   = u[-2] - 2*u[-1]\n",
    "    \n",
    "```"
   ]
  },
  {
   "cell_type": "markdown",
   "metadata": {
    "slideshow": {
     "slide_type": "subslide"
    }
   },
   "source": [
    "## Another example\n",
    "\n",
    "Consider summing the elements of a vector\n",
    "\n",
    "$$A = (1, 1, 1, \\ldots, 1).$$\n",
    "\n",
    "```python\n",
    "def sum(u,n):\n",
    "    return np.sum(u)\n",
    "```"
   ]
  },
  {
   "cell_type": "markdown",
   "metadata": {
    "slideshow": {
     "slide_type": "fragment"
    }
   },
   "source": [
    "```python\n",
    "def sum_transpose(v,n):\n",
    "    u = v * np.ones(n)\n",
    "```"
   ]
  },
  {
   "cell_type": "markdown",
   "metadata": {
    "slideshow": {
     "slide_type": "slide"
    }
   },
   "source": [
    "# Assignments"
   ]
  },
  {
   "cell_type": "code",
   "execution_count": null,
   "metadata": {
    "slideshow": {
     "slide_type": "subslide"
    }
   },
   "outputs": [],
   "source": []
  }
 ],
 "metadata": {
  "celltoolbar": "Slideshow",
  "kernelspec": {
   "display_name": "Python 3 (ipykernel)",
   "language": "python",
   "name": "python3"
  },
  "language_info": {
   "codemirror_mode": {
    "name": "ipython",
    "version": 3
   },
   "file_extension": ".py",
   "mimetype": "text/x-python",
   "name": "python",
   "nbconvert_exporter": "python",
   "pygments_lexer": "ipython3",
   "version": "3.8.12"
  }
 },
 "nbformat": 4,
 "nbformat_minor": 4
}
