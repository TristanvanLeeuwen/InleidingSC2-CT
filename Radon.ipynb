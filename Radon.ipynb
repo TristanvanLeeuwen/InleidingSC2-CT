{
 "cells": [
  {
   "cell_type": "markdown",
   "metadata": {},
   "source": [
    "* pixels centers: $(x_i,y_i) \\in [-1,1]$ with $x_i = -1 + (i+1/2) \\cdot h$, $h = 2/n$, $i=0, \\ldots, n-1$\n",
    "* detector element centers: $s_i \\in [-2\\sqrt{2}, 2\\sqrt{2}]$ determined via\n",
    "\n",
    "get symmetric grid with $m$ points of $[-L,L]$ $x_i = x_{-1} +  i \\cdot h$ with $h$ fixed and $m$, $x_{-1}$, to be determined.\n",
    "\n",
    "We need $x_{m-1} = -x_{0}$ so $-x_{-1} = x_{-1} + (m-1)h$ so $x_{-1} = (1-m)h/2$ and $m$ chosen such that $x_{-1}\\approx -L$, so $|L + (1-m)h/2|$ minimal. $|2L + h - mh|$ minimal, $m = (2L + h)/h = 2L/h + 1$\n",
    "\n",
    "Note that we like $m$ to have the same parity as $n$."
   ]
  },
  {
   "cell_type": "markdown",
   "metadata": {},
   "source": [
    "X-ray with angle $\\theta$ and offset $s$:\n",
    "\n",
    "$$ x = t \\sin\\theta + s \\cos\\theta, y = -t\\cos\\theta + s\\sin\\theta $$\n",
    "\n",
    "now for fixed $(s,\\theta)$ determine intersections with grid lines ${-1, -1+h, -1+2h, \\ldots, -1+nh}$, call these $x_i, y_i$:\n",
    "\n",
    "$$t = (x_i - s \\cos\\theta)/\\sin \\theta$$\n",
    "\n",
    "$$t = -(y_i - s \\sin\\theta)/\\cos \\theta$$"
   ]
  },
  {
   "cell_type": "markdown",
   "metadata": {},
   "source": [
    "$x\\cos\\theta = t\\sin\\theta\\cos\\theta + s \\cos^2\\theta, y\\sin\\theta = -t\\cos\\theta\\sin\\theta + s\\sin^2\\theta$\n",
    "\n",
    "$$x\\cos\\theta + y\\sin\\theta = s$$"
   ]
  },
  {
   "cell_type": "code",
   "execution_count": 54,
   "metadata": {},
   "outputs": [],
   "source": [
    "import numpy as np\n",
    "from scipy.sparse import coo_matrix\n",
    "import matplotlib.pyplot as plt\n",
    "from time import perf_counter"
   ]
  },
  {
   "cell_type": "code",
   "execution_count": 55,
   "metadata": {},
   "outputs": [],
   "source": [
    "def ray(n, s,theta):\n",
    "    \"\"\"\n",
    "    Trace ray:\n",
    "        x(t) =  t*sin(theta) + s*cos(theta)\n",
    "        y(t) = -t*cos(theta) + s*sin(theta)\n",
    "    through volume [-1,1]^2, discretised with n x n pixels.\n",
    "    \n",
    "    Returns linear indices of intersected pixels and corresponding intersection lengths\n",
    "    \"\"\"\n",
    "    \n",
    "    # define boundaries of pixels\n",
    "    h = 2/n\n",
    "    x = -1 + np.linspace(0,n,n+1)*h\n",
    "    y = -1 + np.linspace(0,n,n+1)*h\n",
    "    \n",
    "    # compute all intersections with horizontal and vertical grid lines\n",
    "    # in terms of path length parameter t\n",
    "    t = []\n",
    "    if np.abs(np.sin(theta)) > 0:\n",
    "        tx = (x - s*np.cos(theta))/np.sin(theta)\n",
    "        t = np.concatenate((t,tx))\n",
    "    if np.abs(np.cos(theta)) > 0 :\n",
    "        ty = -(y - s*np.sin(theta))/np.cos(theta)\n",
    "        t = np.concatenate((t,ty))\n",
    "    \n",
    "    # sort t in increasing order\n",
    "    t = np.sort(t[np.isfinite(t)])\n",
    "    \n",
    "    # now trace the ray and store pixel-indices and path lengths\n",
    "    nt = len(t)\n",
    "    I = []\n",
    "    w = []\n",
    "    for i in range(nt-1):\n",
    "        # entry point of ray\n",
    "        x1 = t[i]*np.sin(theta) + s*np.cos(theta)\n",
    "        y1 = -t[i]*np.cos(theta) + s*np.sin(theta)\n",
    "        \n",
    "        # exit point of ray\n",
    "        x2 = t[i+1]*np.sin(theta) + s*np.cos(theta)\n",
    "        y2 = -t[i+1]*np.cos(theta) + s*np.sin(theta)\n",
    "        \n",
    "        # pixel indices\n",
    "        ix = int(((x1 + x2)/2+1)//h)\n",
    "        iy = int(((y1 + y2)/2+1)//h)\n",
    "        \n",
    "        # only take pixels in volume [-1,1]^2 in to account\n",
    "        if (0 <= ix < n) and (0 <= iy < n):\n",
    "            I.append(int(iy*n + ix))\n",
    "            w.append(t[i+1] - t[i])\n",
    "        \n",
    "    return I,w"
   ]
  },
  {
   "cell_type": "code",
   "execution_count": 56,
   "metadata": {},
   "outputs": [],
   "source": [
    "def get_matrix(n, vs,vtheta):\n",
    "    \"\"\"\n",
    "    Fill (dense) matrix for given grid, detector and angles.\n",
    "    \"\"\"\n",
    "    ns = len(vs)\n",
    "    nt = len(vtheta)\n",
    "    \n",
    "    A = np.zeros((ns*nt,n**2))\n",
    "    for i in range(nt):\n",
    "        for j in range(ns):\n",
    "            J,w = ray(n, vs[j],vtheta[i])\n",
    "            A[i*ns + j,J] = w\n",
    "    return A"
   ]
  },
  {
   "cell_type": "code",
   "execution_count": 76,
   "metadata": {},
   "outputs": [],
   "source": [
    "def get_sparse_matrix(n, vs,vtheta):\n",
    "    \"\"\"\n",
    "    Fill (sparse) matrix for given grid, detector and angles.\n",
    "    \"\"\"\n",
    "    ns = len(vs)\n",
    "    nt = len(vtheta)\n",
    "    \n",
    "    I = []\n",
    "    J = []\n",
    "    W = []\n",
    "    for i in range(nt):\n",
    "        for j in range(ns):\n",
    "            Jij,w = ray(n, vs[j],vtheta[i])\n",
    "            I = np.concatenate((I,len(Jij)*[i*ns + j]))\n",
    "            J = np.concatenate((J,Jij))\n",
    "            W = np.concatenate((W,w))\n",
    "    return coo_matrix((W, (I, J)), shape=(ns*nt,n**2))"
   ]
  },
  {
   "cell_type": "code",
   "execution_count": 93,
   "metadata": {},
   "outputs": [],
   "source": [
    "def Radon(n):\n",
    "    \"\"\"\n",
    "    Define fully sampled Radon transform with grid-spacing n. The detector has same gridspacing as volume, \n",
    "    and spans [-sqrt(2),sqrt(2)], the n angles are  equispaced in [0,2pi].\n",
    "    \n",
    "    This produces a matrix of size m*n x n*n with m = int((2*L/h + 1))\n",
    "    \"\"\"\n",
    "    # volume grid\n",
    "    h = 2/n\n",
    "    x = -1 + h/2 + np.linspace(0,n-1,n)*h\n",
    "    \n",
    "    # detector grid, take care to make it symmetric and include 0 when n is odd.\n",
    "    L = np.sqrt(2)\n",
    "    m = int((2*L/h + 1))\n",
    "    if (n%2) != (m%2):\n",
    "        m += 1 \n",
    "    s = (1-m)*h/2 + np.linspace(0,m-1,m)*h\n",
    "    \n",
    "    # angular grid\n",
    "    theta = np.linspace(0,2*np.pi,n)\n",
    "    \n",
    "    # get matrix\n",
    "    A = get_matrix(n, s,theta)\n",
    "    \n",
    "    return A, x, s, theta"
   ]
  },
  {
   "cell_type": "code",
   "execution_count": 124,
   "metadata": {},
   "outputs": [],
   "source": [
    "def Radon_forward(n,u):\n",
    "    \"\"\"\n",
    "    Matrix-free matvec with Radon\n",
    "    \"\"\"\n",
    "    # volume grid\n",
    "    h = 2/n\n",
    "    x = -1 + h/2 + np.linspace(0,n-1,n)*h\n",
    "    \n",
    "    # detector grid, take care to make it symmetric and include 0 when n is odd.\n",
    "    L = np.sqrt(2)\n",
    "    m = int((2*L/h + 1))\n",
    "    if (n%2) != (m%2):\n",
    "        m += 1 \n",
    "    s = (1-m)*h/2 + np.linspace(0,m-1,m)*h\n",
    "    \n",
    "    # angular grid\n",
    "    theta = np.linspace(0,2*np.pi,n)\n",
    "    \n",
    "    # \n",
    "    f = np.zeros(m*n)\n",
    "    \n",
    "    ns = len(s)\n",
    "    nt = len(theta)\n",
    "    \n",
    "    for i in range(nt):\n",
    "        for j in range(ns):\n",
    "            J,w = ray(n, s[j],theta[i])\n",
    "            f[i*ns + j] = np.array(w).dot(u[J])\n",
    "    return f\n",
    "\n",
    "def Radon_adjoint(n,f):\n",
    "    \"\"\"\n",
    "    Matrix-free matvec with adjoint Radon\n",
    "    \"\"\"\n",
    "    # volume grid\n",
    "    h = 2/n\n",
    "    x = -1 + h/2 + np.linspace(0,n-1,n)*h\n",
    "    \n",
    "    # detector grid, take care to make it symmetric and include 0 when n is odd.\n",
    "    L = np.sqrt(2)\n",
    "    m = int((2*L/h + 1))\n",
    "    if (n%2) != (m%2):\n",
    "        m += 1 \n",
    "    s = (1-m)*h/2 + np.linspace(0,m-1,m)*h\n",
    "    \n",
    "    # angular grid\n",
    "    theta = np.linspace(0,2*np.pi,n)\n",
    "    \n",
    "    #\n",
    "    u = np.zeros(n*n)\n",
    "    \n",
    "    ns = len(s)\n",
    "    nt = len(theta)\n",
    "    \n",
    "    for i in range(nt):\n",
    "        for j in range(ns):\n",
    "            J,w = ray(n, s[j],theta[i])\n",
    "            u[J] += np.array(w)*f[i*ns + j]\n",
    "    return u"
   ]
  },
  {
   "cell_type": "markdown",
   "metadata": {},
   "source": [
    "# Sanity check"
   ]
  },
  {
   "cell_type": "code",
   "execution_count": 118,
   "metadata": {},
   "outputs": [
    {
     "data": {
      "image/png": "[encoded data removed]",
      "text/plain": [
       "<Figure size 432x288 with 2 Axes>"
      ]
     },
     "metadata": {
      "needs_background": "light"
     },
     "output_type": "display_data"
    }
   ],
   "source": [
    "# paramters\n",
    "n = 51\n",
    "A, x, s, theta = Radon(n)\n",
    "\n",
    "# grids\n",
    "h = 2/n\n",
    "m = len(s)\n",
    "L = s[-1]\n",
    "\n",
    "# sanity check\n",
    "i = 11\n",
    "j = 21\n",
    "ix = 11\n",
    "iy = 15\n",
    "\n",
    "I = i*m + j\n",
    "J = ix*n + iy\n",
    "\n",
    "thetai = theta[i]\n",
    "sj = s[j]\n",
    "xi = x[ix]\n",
    "yi = x[iy]\n",
    "\n",
    "u = A[I,:]\n",
    "f = A[:,J]\n",
    "\n",
    "# plot\n",
    "fig, ax = plt.subplots(1,2)\n",
    "\n",
    "t = np.linspace(-2,2,100)\n",
    "\n",
    "ax[0].imshow(u.reshape(n,n),extent=[-1,1,-1,1],origin='lower',vmin=0,vmax=1.5*h)\n",
    "ax[0].plot(t*np.sin(thetai)+sj*np.cos(thetai),-t*np.cos(thetai)+sj*np.sin(thetai),'r')\n",
    "ax[0].set_title(r'$\\theta=$%1.2f, $s$=%1.2f'%(thetai,sj))\n",
    "ax[0].set_xlim([-1,1])\n",
    "ax[0].set_ylim([-1,1])\n",
    "\n",
    "ax[1].imshow(f.reshape(n,m).T,extent=(theta[0],theta[-1],-L,L))\n",
    "ax[1].plot(theta,-xi*np.sin(theta) - yi*np.cos(theta),'r')\n",
    "ax[1].set_title(r'$(x,y)$ = (%1.2f,%1.2f)'%(xi,yi))\n",
    "ax[1].set_aspect(np.pi*L/2)\n",
    "\n",
    "fig.tight_layout()"
   ]
  },
  {
   "cell_type": "markdown",
   "metadata": {},
   "source": [
    "# Complexity of filling matrix"
   ]
  },
  {
   "cell_type": "code",
   "execution_count": 119,
   "metadata": {},
   "outputs": [
    {
     "name": "stdout",
     "output_type": "stream",
     "text": [
      "8 0.039736823999191984\n",
      "16 0.22002114699898812\n",
      "32 1.5016994289999275\n",
      "64 11.532120997000675\n",
      "128 88.26906697499908\n"
     ]
    }
   ],
   "source": [
    "# timing (expect O(N^3))\n",
    "N = np.array([8, 16,32,64,128])\n",
    "T = np.zeros(len(N))\n",
    "for i in range(len(N)):\n",
    "    n = N[i]\n",
    "    t0 = perf_counter()\n",
    "    A, x, s, theta = Radon(n)\n",
    "    t1 = perf_counter()\n",
    "    T[i] = t1-t0\n",
    "    print(N[i],T[i])"
   ]
  },
  {
   "cell_type": "code",
   "execution_count": 120,
   "metadata": {},
   "outputs": [
    {
     "data": {
      "text/plain": [
       "[<matplotlib.lines.Line2D at 0x7f9849c9bc10>,\n",
       " <matplotlib.lines.Line2D at 0x7f9849c9bcd0>]"
      ]
     },
     "execution_count": 120,
     "metadata": {},
     "output_type": "execute_result"
    },
    {
     "data": {
      "image/png": "[encoded data removed]",
      "text/plain": [
       "<Figure size 432x288 with 1 Axes>"
      ]
     },
     "metadata": {
      "needs_background": "light"
     },
     "output_type": "display_data"
    }
   ],
   "source": [
    "c = np.linalg.pinv(np.array([0*N+1,N,N**2,N**3]).T)@T\n",
    "plt.loglog(N,T,'*',N,np.array([0*N+1,N,N**2,N**3]).T.dot(c),'k--')"
   ]
  },
  {
   "cell_type": "markdown",
   "metadata": {},
   "source": [
    "# adjoint-test of matrix-free mat-vecs"
   ]
  },
  {
   "cell_type": "code",
   "execution_count": 127,
   "metadata": {},
   "outputs": [
    {
     "name": "stdout",
     "output_type": "stream",
     "text": [
      "1.0\n"
     ]
    }
   ],
   "source": [
    "n = 21\n",
    "u1 = np.random.randn(n*n)\n",
    "f1 = Radon_forward(n,u1)\n",
    "u2 = Radon_adjoint(n,f1)\n",
    "\n",
    "print(u1.dot(u2)/f1.dot(f1))\n"
   ]
  },
  {
   "cell_type": "markdown",
   "metadata": {},
   "source": [
    "# complexity of matrix-free mat-vecs"
   ]
  },
  {
   "cell_type": "code",
   "execution_count": 130,
   "metadata": {},
   "outputs": [
    {
     "name": "stdout",
     "output_type": "stream",
     "text": [
      "8 0.0824398860004294\n",
      "16 0.4394061460006924\n",
      "32 3.0070554920002905\n",
      "64 22.84609557300064\n",
      "128 178.20205772400004\n"
     ]
    }
   ],
   "source": [
    "# timing (expect O(N^3))\n",
    "N = np.array([8, 16,32,64,128])\n",
    "T = np.zeros(len(N))\n",
    "for i in range(len(N)):\n",
    "    n = N[i]\n",
    "    t0 = perf_counter()\n",
    "    u1 = np.random.randn(n*n)\n",
    "    f1 = Radon_forward(n,u1)\n",
    "    u2 = Radon_adjoint(n,f1)\n",
    "    t1 = perf_counter()\n",
    "    T[i] = t1-t0\n",
    "    print(N[i],T[i])"
   ]
  },
  {
   "cell_type": "code",
   "execution_count": 131,
   "metadata": {},
   "outputs": [
    {
     "data": {
      "text/plain": [
       "[<matplotlib.lines.Line2D at 0x7f96c40def70>,\n",
       " <matplotlib.lines.Line2D at 0x7f96c4189070>]"
      ]
     },
     "execution_count": 131,
     "metadata": {},
     "output_type": "execute_result"
    },
    {
     "data": {
      "image/png": "[encoded data removed]",
      "text/plain": [
       "<Figure size 432x288 with 1 Axes>"
      ]
     },
     "metadata": {
      "needs_background": "light"
     },
     "output_type": "display_data"
    }
   ],
   "source": [
    "c = np.linalg.pinv(np.array([0*N+1,N,N**2,N**3]).T)@T\n",
    "plt.loglog(N,T,'*',N,np.array([0*N+1,N,N**2,N**3]).T.dot(c),'k--')"
   ]
  }
 ],
 "metadata": {
  "kernelspec": {
   "display_name": "Python 3",
   "language": "python",
   "name": "python3"
  },
  "language_info": {
   "codemirror_mode": {
    "name": "ipython",
    "version": 3
   },
   "file_extension": ".py",
   "mimetype": "text/x-python",
   "name": "python",
   "nbconvert_exporter": "python",
   "pygments_lexer": "ipython3",
   "version": "3.8.5"
  }
 },
 "nbformat": 4,
 "nbformat_minor": 4
}
