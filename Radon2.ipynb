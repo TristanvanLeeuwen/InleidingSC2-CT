{
 "cells": [
  {
   "cell_type": "code",
   "execution_count": 2,
   "metadata": {},
   "outputs": [],
   "source": [
    "import numpy as np\n",
    "import matplotlib.pyplot as plt\n",
    "from time import perf_counter"
   ]
  },
  {
   "cell_type": "code",
   "execution_count": 188,
   "metadata": {},
   "outputs": [],
   "source": [
    "def Radon_forward(n,u):\n",
    "    \"\"\"\n",
    "    Matrix-free matvec with Radon\n",
    "    \"\"\"\n",
    "    # volume grid\n",
    "    h = 2/n\n",
    "    x = -1 + np.linspace(0,n,n+1)*h\n",
    "    \n",
    "    # detector grid\n",
    "    m = int(3/h)+1\n",
    "    s = np.linspace(-1.5,1.5,m)\n",
    "    \n",
    "    # angular grid\n",
    "    theta = np.linspace(0,2*np.pi,n)\n",
    "    \n",
    "    #\n",
    "    ss,xx = np.meshgrid(s,x)\n",
    "    \n",
    "    # \n",
    "    f = np.zeros((n,m))\n",
    "    for i in range(n):\n",
    "        # compute all intersections with horizontal and vertical grid lines\n",
    "        # in terms of path length parameter t\n",
    "        tt = np.zeros((0,m))\n",
    "        if np.abs(np.sin(theta[i])) > 0:\n",
    "            tx = (xx - ss*np.cos(theta[i]))/np.sin(theta[i])\n",
    "            tt = np.concatenate((tt,tx))\n",
    "        if np.abs(np.cos(theta[i])) > 0 :\n",
    "            ty = -(xx - ss*np.sin(theta[i]))/np.cos(theta[i])\n",
    "            tt = np.concatenate((tt,ty))\n",
    "\n",
    "        # sort t in increasing order\n",
    "        tt = np.sort(tt,axis=0)\n",
    "\n",
    "        # intersection points\n",
    "        xi =  tt*np.sin(theta[i]) + s*np.cos(theta[i])\n",
    "        yi = -tt*np.cos(theta[i]) + s*np.sin(theta[i])\n",
    "\n",
    "        Ix = (((xi[:-1,:] + xi[1:,:])/2+1)//h).astype(int).T\n",
    "        Iy = (((yi[:-1,:] + yi[1:,:])/2+1)//h).astype(int).T\n",
    "        W = (tt[1:,:] - tt[:-1,:]).T\n",
    "\n",
    "        index = np.logical_and(np.logical_and(0<=Ix, Ix<n),np.logical_and(0<=Iy, Iy<n))\n",
    "\n",
    "        Ix = np.where(index,Ix,0)\n",
    "        Iy = np.where(index,Iy,0)\n",
    "        W = np.where(index,W,0)\n",
    "        for j in range(m):\n",
    "            f[i,j] = u[Ix[j],Iy[j]].dot(W[j])\n",
    "    return f"
   ]
  },
  {
   "cell_type": "code",
   "execution_count": 189,
   "metadata": {},
   "outputs": [],
   "source": [
    "def Radon_adjoint(n,f):\n",
    "    \"\"\"\n",
    "    Matrix-free matvec with Radon\n",
    "    \"\"\"\n",
    "    # volume grid\n",
    "    h = 2/n\n",
    "    x = -1 + np.linspace(0,n,n+1)*h\n",
    "    \n",
    "    # detector grid\n",
    "    m = int(3/h)+1\n",
    "    s = np.linspace(-1.5,1.5,m)\n",
    "    \n",
    "    # angular grid\n",
    "    theta = np.linspace(0,2*np.pi,n)\n",
    "    \n",
    "    #\n",
    "    ss,xx = np.meshgrid(s,x)\n",
    "    \n",
    "    # \n",
    "    u = np.zeros(n*n)\n",
    "    \n",
    "    for i in range(n):\n",
    "        # compute all intersections with horizontal and vertical grid lines\n",
    "        # in terms of path length parameter t\n",
    "        tt = np.zeros((0,m))\n",
    "        if np.abs(np.sin(theta[i])) > 0:\n",
    "            tx = (xx - ss*np.cos(theta[i]))/np.sin(theta[i])\n",
    "            tt = np.concatenate((tt,tx))\n",
    "        if np.abs(np.cos(theta[i])) > 0 :\n",
    "            ty = -(xx - ss*np.sin(theta[i]))/np.cos(theta[i])\n",
    "            tt = np.concatenate((tt,ty))\n",
    "\n",
    "        # sort t in increasing order\n",
    "        tt = np.sort(tt,axis=0)\n",
    "\n",
    "        # intersection points\n",
    "        xi =  tt*np.sin(theta[i]) + s*np.cos(theta[i])\n",
    "        yi = -tt*np.cos(theta[i]) + s*np.sin(theta[i])\n",
    "\n",
    "        Ix = (((xi[:-1,:] + xi[1:,:])/2+1)//h).astype(int).T\n",
    "        Iy = (((yi[:-1,:] + yi[1:,:])/2+1)//h).astype(int).T\n",
    "        W = (tt[1:,:] - tt[:-1,:]).T\n",
    "\n",
    "        index = np.logical_and(np.logical_and(0<=Ix, Ix<n),np.logical_and(0<=Iy, Iy<n))\n",
    "\n",
    "        Ix = np.where(index,Ix,0)\n",
    "        Iy = np.where(index,Iy,0)\n",
    "        W = np.where(index,W,0)\n",
    "        for j in range(m):\n",
    "            u[Ix[j]*n + Iy[j]] += W[j]*f[i,j]\n",
    "    return u.reshape(n,n)"
   ]
  },
  {
   "cell_type": "code",
   "execution_count": 190,
   "metadata": {},
   "outputs": [
    {
     "data": {
      "text/plain": [
       "<matplotlib.image.AxesImage at 0x7fa088003910>"
      ]
     },
     "execution_count": 190,
     "metadata": {},
     "output_type": "execute_result"
    },
    {
     "data": {
      "image/png": "[encoded data removed]",
      "text/plain": [
       "<Figure size 432x288 with 2 Axes>"
      ]
     },
     "metadata": {
      "needs_background": "light"
     },
     "output_type": "display_data"
    }
   ],
   "source": [
    "# sanity check\n",
    "\n",
    "# paramters\n",
    "n = 51\n",
    "\n",
    "u = np.zeros((n,n))\n",
    "u[11,41] = 1\n",
    "f = Radon_forward(n,u)\n",
    "fig,ax = plt.subplots(1,2)\n",
    "ax[0].imshow(u)\n",
    "ax[1].imshow(f)"
   ]
  },
  {
   "cell_type": "code",
   "execution_count": 214,
   "metadata": {},
   "outputs": [
    {
     "name": "stdout",
     "output_type": "stream",
     "text": [
      "0.9995837318390539\n"
     ]
    }
   ],
   "source": [
    "# adjoint test\n",
    "n = 101\n",
    "u1 = np.random.randn(n,n)\n",
    "f1 = Radon_forward(n,u1)\n",
    "u2 = Radon_adjoint(n,f1)\n",
    "\n",
    "print(np.sum(u1*u2)/np.sum(f1*f1))"
   ]
  },
  {
   "cell_type": "code",
   "execution_count": 210,
   "metadata": {},
   "outputs": [
    {
     "name": "stdout",
     "output_type": "stream",
     "text": [
      "8 0.007120132999261841 0.004496009998547379\n",
      "16 0.010368179002398392 0.006496297999547096\n",
      "32 0.016823579000629252 0.018915922999440227\n",
      "64 0.08131580500048585 0.1000526819989318\n",
      "128 0.5664787599998817 0.6072545839997474\n",
      "256 4.180108434000431 4.769664794999699\n"
     ]
    }
   ],
   "source": [
    "# timing (expect O(N^3))\n",
    "N = np.array([8, 16,32,64,128,256])\n",
    "Tf = np.zeros(len(N))\n",
    "Tb = np.zeros(len(N))\n",
    "for i in range(len(N)):\n",
    "    n = N[i]\n",
    "    u1 = np.random.randn(n,n)\n",
    "    \n",
    "    t0 = perf_counter()\n",
    "    f1 = Radon_forward(n,u1)\n",
    "    t1 = perf_counter()\n",
    "    Tf[i] = t1-t0\n",
    "    \n",
    "    t0 = perf_counter()\n",
    "    f1 = Radon_adjoint(n,f1)\n",
    "    t1 = perf_counter()\n",
    "    Tb[i] = t1-t0\n",
    "    \n",
    "    print(N[i],Tf[i],Tb[i])"
   ]
  },
  {
   "cell_type": "code",
   "execution_count": 212,
   "metadata": {},
   "outputs": [
    {
     "data": {
      "text/plain": [
       "[<matplotlib.lines.Line2D at 0x7fa087fb3670>,\n",
       " <matplotlib.lines.Line2D at 0x7fa087fb3760>]"
      ]
     },
     "execution_count": 212,
     "metadata": {},
     "output_type": "execute_result"
    },
    {
     "data": {
      "image/png": "[encoded data removed]",
      "text/plain": [
       "<Figure size 432x288 with 1 Axes>"
      ]
     },
     "metadata": {
      "needs_background": "light"
     },
     "output_type": "display_data"
    }
   ],
   "source": [
    "B = np.array([0*N+1,N,N**2,N**3]).T\n",
    "cf = np.linalg.pinv(B)@Tf\n",
    "cb = np.linalg.pinv(B)@Tb\n",
    "\n",
    "plt.loglog(N,Tf,'*',N,B@cf,'b--')\n",
    "plt.loglog(N,Tb,'*',N,B@cb,'r--')"
   ]
  },
  {
   "cell_type": "code",
   "execution_count": null,
   "metadata": {},
   "outputs": [],
   "source": []
  }
 ],
 "metadata": {
  "kernelspec": {
   "display_name": "Python 3",
   "language": "python",
   "name": "python3"
  },
  "language_info": {
   "codemirror_mode": {
    "name": "ipython",
    "version": 3
   },
   "file_extension": ".py",
   "mimetype": "text/x-python",
   "name": "python",
   "nbconvert_exporter": "python",
   "pygments_lexer": "ipython3",
   "version": "3.8.5"
  }
 },
 "nbformat": 4,
 "nbformat_minor": 4
}
